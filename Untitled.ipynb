{
 "cells": [
  {
   "cell_type": "code",
   "execution_count": 15,
   "id": "ab106c3e-b4d9-443a-a70d-622c3f23a954",
   "metadata": {},
   "outputs": [],
   "source": [
    "import pandas as pd\n",
    "import numpy as np"
   ]
  },
  {
   "cell_type": "code",
   "execution_count": 2,
   "id": "eb186f09-02ab-4c51-a385-c38cbf903793",
   "metadata": {},
   "outputs": [
    {
     "data": {
      "text/html": [
       "<div>\n",
       "<style scoped>\n",
       "    .dataframe tbody tr th:only-of-type {\n",
       "        vertical-align: middle;\n",
       "    }\n",
       "\n",
       "    .dataframe tbody tr th {\n",
       "        vertical-align: top;\n",
       "    }\n",
       "\n",
       "    .dataframe thead th {\n",
       "        text-align: right;\n",
       "    }\n",
       "</style>\n",
       "<table border=\"1\" class=\"dataframe\">\n",
       "  <thead>\n",
       "    <tr style=\"text-align: right;\">\n",
       "      <th></th>\n",
       "      <th>Unnamed: 0</th>\n",
       "      <th>urlDrugName</th>\n",
       "      <th>rating</th>\n",
       "      <th>effectiveness</th>\n",
       "      <th>sideEffects</th>\n",
       "      <th>condition</th>\n",
       "      <th>benefitsReview</th>\n",
       "      <th>sideEffectsReview</th>\n",
       "      <th>commentsReview</th>\n",
       "    </tr>\n",
       "  </thead>\n",
       "  <tbody>\n",
       "    <tr>\n",
       "      <th>0</th>\n",
       "      <td>2202</td>\n",
       "      <td>enalapril</td>\n",
       "      <td>4</td>\n",
       "      <td>Highly Effective</td>\n",
       "      <td>Mild Side Effects</td>\n",
       "      <td>management of congestive heart failure</td>\n",
       "      <td>slowed the progression of left ventricular dys...</td>\n",
       "      <td>cough, hypotension , proteinuria, impotence , ...</td>\n",
       "      <td>monitor blood pressure , weight and asses for ...</td>\n",
       "    </tr>\n",
       "    <tr>\n",
       "      <th>1</th>\n",
       "      <td>3117</td>\n",
       "      <td>ortho-tri-cyclen</td>\n",
       "      <td>1</td>\n",
       "      <td>Highly Effective</td>\n",
       "      <td>Severe Side Effects</td>\n",
       "      <td>birth prevention</td>\n",
       "      <td>Although this type of birth control has more c...</td>\n",
       "      <td>Heavy Cycle, Cramps, Hot Flashes, Fatigue, Lon...</td>\n",
       "      <td>I Hate This Birth Control, I Would Not Suggest...</td>\n",
       "    </tr>\n",
       "    <tr>\n",
       "      <th>2</th>\n",
       "      <td>1146</td>\n",
       "      <td>ponstel</td>\n",
       "      <td>10</td>\n",
       "      <td>Highly Effective</td>\n",
       "      <td>No Side Effects</td>\n",
       "      <td>menstrual cramps</td>\n",
       "      <td>I was used to having cramps so badly that they...</td>\n",
       "      <td>Heavier bleeding and clotting than normal.</td>\n",
       "      <td>I took 2 pills at the onset of my menstrual cr...</td>\n",
       "    </tr>\n",
       "    <tr>\n",
       "      <th>3</th>\n",
       "      <td>3947</td>\n",
       "      <td>prilosec</td>\n",
       "      <td>3</td>\n",
       "      <td>Marginally Effective</td>\n",
       "      <td>Mild Side Effects</td>\n",
       "      <td>acid reflux</td>\n",
       "      <td>The acid reflux went away for a few months aft...</td>\n",
       "      <td>Constipation, dry mouth and some mild dizzines...</td>\n",
       "      <td>I was given Prilosec prescription at a dose of...</td>\n",
       "    </tr>\n",
       "    <tr>\n",
       "      <th>4</th>\n",
       "      <td>1951</td>\n",
       "      <td>lyrica</td>\n",
       "      <td>2</td>\n",
       "      <td>Marginally Effective</td>\n",
       "      <td>Severe Side Effects</td>\n",
       "      <td>fibromyalgia</td>\n",
       "      <td>I think that the Lyrica was starting to help w...</td>\n",
       "      <td>I felt extremely drugged and dopey.  Could not...</td>\n",
       "      <td>See above</td>\n",
       "    </tr>\n",
       "  </tbody>\n",
       "</table>\n",
       "</div>"
      ],
      "text/plain": [
       "   Unnamed: 0       urlDrugName  rating         effectiveness  \\\n",
       "0        2202         enalapril       4      Highly Effective   \n",
       "1        3117  ortho-tri-cyclen       1      Highly Effective   \n",
       "2        1146           ponstel      10      Highly Effective   \n",
       "3        3947          prilosec       3  Marginally Effective   \n",
       "4        1951            lyrica       2  Marginally Effective   \n",
       "\n",
       "           sideEffects                               condition  \\\n",
       "0    Mild Side Effects  management of congestive heart failure   \n",
       "1  Severe Side Effects                        birth prevention   \n",
       "2      No Side Effects                        menstrual cramps   \n",
       "3    Mild Side Effects                             acid reflux   \n",
       "4  Severe Side Effects                            fibromyalgia   \n",
       "\n",
       "                                      benefitsReview  \\\n",
       "0  slowed the progression of left ventricular dys...   \n",
       "1  Although this type of birth control has more c...   \n",
       "2  I was used to having cramps so badly that they...   \n",
       "3  The acid reflux went away for a few months aft...   \n",
       "4  I think that the Lyrica was starting to help w...   \n",
       "\n",
       "                                   sideEffectsReview  \\\n",
       "0  cough, hypotension , proteinuria, impotence , ...   \n",
       "1  Heavy Cycle, Cramps, Hot Flashes, Fatigue, Lon...   \n",
       "2         Heavier bleeding and clotting than normal.   \n",
       "3  Constipation, dry mouth and some mild dizzines...   \n",
       "4  I felt extremely drugged and dopey.  Could not...   \n",
       "\n",
       "                                      commentsReview  \n",
       "0  monitor blood pressure , weight and asses for ...  \n",
       "1  I Hate This Birth Control, I Would Not Suggest...  \n",
       "2  I took 2 pills at the onset of my menstrual cr...  \n",
       "3  I was given Prilosec prescription at a dose of...  \n",
       "4                                          See above  "
      ]
     },
     "execution_count": 2,
     "metadata": {},
     "output_type": "execute_result"
    }
   ],
   "source": [
    "df = pd.read_csv(\"drug.csv\")\n",
    "df.head()"
   ]
  },
  {
   "cell_type": "code",
   "execution_count": 4,
   "id": "0ab5db55-9a26-42d7-b491-9f7e19ff1406",
   "metadata": {},
   "outputs": [
    {
     "name": "stdout",
     "output_type": "stream",
     "text": [
      "Unnamed: 0            0\n",
      "urlDrugName           0\n",
      "rating                0\n",
      "effectiveness         0\n",
      "sideEffects           0\n",
      "condition             1\n",
      "benefitsReview       18\n",
      "sideEffectsReview    75\n",
      "commentsReview       12\n",
      "dtype: int64\n"
     ]
    }
   ],
   "source": [
    "# Handle Missing Values\n",
    "## Check for missing values\n",
    "print(df.isnull().sum())"
   ]
  },
  {
   "cell_type": "code",
   "execution_count": 53,
   "id": "75892ef0-f1d5-456b-a798-4cdd7870eda5",
   "metadata": {},
   "outputs": [
    {
     "data": {
      "text/plain": [
       "urlDrugName\n",
       "lexapro             63\n",
       "prozac              46\n",
       "zoloft              45\n",
       "retin-a             45\n",
       "propecia            38\n",
       "                    ..\n",
       "desonide             1\n",
       "nasacort-aq          1\n",
       "glucophage-xr        1\n",
       "risperdal-consta     1\n",
       "trileptal            1\n",
       "Name: count, Length: 502, dtype: int64"
      ]
     },
     "execution_count": 53,
     "metadata": {},
     "output_type": "execute_result"
    }
   ],
   "source": [
    "df['urlDrugName'].value_counts()"
   ]
  },
  {
   "cell_type": "code",
   "execution_count": 54,
   "id": "605c3cce-489a-4b6d-9ebb-2fe0a87becc4",
   "metadata": {},
   "outputs": [
    {
     "data": {
      "text/plain": [
       "Index(['Unnamed: 0', 'urlDrugName', 'rating', 'effectiveness', 'sideEffects',\n",
       "       'condition', 'benefitsReview', 'sideEffectsReview', 'commentsReview'],\n",
       "      dtype='object')"
      ]
     },
     "execution_count": 54,
     "metadata": {},
     "output_type": "execute_result"
    }
   ],
   "source": [
    "df.columns"
   ]
  },
  {
   "cell_type": "code",
   "execution_count": 60,
   "id": "ab0362ac-2346-40ce-8135-b13052c1d769",
   "metadata": {},
   "outputs": [
    {
     "data": {
      "text/html": [
       "<div>\n",
       "<style scoped>\n",
       "    .dataframe tbody tr th:only-of-type {\n",
       "        vertical-align: middle;\n",
       "    }\n",
       "\n",
       "    .dataframe tbody tr th {\n",
       "        vertical-align: top;\n",
       "    }\n",
       "\n",
       "    .dataframe thead th {\n",
       "        text-align: right;\n",
       "    }\n",
       "</style>\n",
       "<table border=\"1\" class=\"dataframe\">\n",
       "  <thead>\n",
       "    <tr style=\"text-align: right;\">\n",
       "      <th></th>\n",
       "      <th>Unnamed: 0</th>\n",
       "      <th>urlDrugName</th>\n",
       "      <th>rating</th>\n",
       "      <th>effectiveness</th>\n",
       "      <th>sideEffects</th>\n",
       "      <th>condition</th>\n",
       "      <th>benefitsReview</th>\n",
       "      <th>sideEffectsReview</th>\n",
       "      <th>commentsReview</th>\n",
       "    </tr>\n",
       "  </thead>\n",
       "  <tbody>\n",
       "    <tr>\n",
       "      <th>66</th>\n",
       "      <td>2285</td>\n",
       "      <td>lexapro</td>\n",
       "      <td>6</td>\n",
       "      <td>Moderately Effective</td>\n",
       "      <td>Mild Side Effects</td>\n",
       "      <td>depression</td>\n",
       "      <td>Before I started on the drug Lexapro, I felt l...</td>\n",
       "      <td>In the first week of treatment I felt disconne...</td>\n",
       "      <td>Lexapro was taken 2 times a day for 2 months.</td>\n",
       "    </tr>\n",
       "    <tr>\n",
       "      <th>83</th>\n",
       "      <td>2319</td>\n",
       "      <td>lexapro</td>\n",
       "      <td>5</td>\n",
       "      <td>Moderately Effective</td>\n",
       "      <td>Moderate Side Effects</td>\n",
       "      <td>depression and generalized anxiety</td>\n",
       "      <td>I sought treatment for two problems in my life...</td>\n",
       "      <td>I gained 15 pounds, which my doctor swears was...</td>\n",
       "      <td>I missed an appointment with my doctor and was...</td>\n",
       "    </tr>\n",
       "    <tr>\n",
       "      <th>121</th>\n",
       "      <td>2321</td>\n",
       "      <td>lexapro</td>\n",
       "      <td>9</td>\n",
       "      <td>Highly Effective</td>\n",
       "      <td>Mild Side Effects</td>\n",
       "      <td>major depression/anxiety</td>\n",
       "      <td>Before Lexapro I was so depressed I could not ...</td>\n",
       "      <td>I have some difficulty sleeping (waking up in ...</td>\n",
       "      <td>I have found  that I have to take it at night ...</td>\n",
       "    </tr>\n",
       "    <tr>\n",
       "      <th>198</th>\n",
       "      <td>2262</td>\n",
       "      <td>lexapro</td>\n",
       "      <td>1</td>\n",
       "      <td>Moderately Effective</td>\n",
       "      <td>Severe Side Effects</td>\n",
       "      <td>depression</td>\n",
       "      <td>I felt less sadness.</td>\n",
       "      <td>i felt less of every emotion.  i felt emotiona...</td>\n",
       "      <td>I took a whole 10 mg tablet the first time and...</td>\n",
       "    </tr>\n",
       "    <tr>\n",
       "      <th>205</th>\n",
       "      <td>2268</td>\n",
       "      <td>lexapro</td>\n",
       "      <td>7</td>\n",
       "      <td>Considerably Effective</td>\n",
       "      <td>Moderate Side Effects</td>\n",
       "      <td>depression/anxiety</td>\n",
       "      <td>Lexapro worked very well to make me feel bette...</td>\n",
       "      <td>I gained ten pounds in the few months that I t...</td>\n",
       "      <td>I've taken several anti-depressants over the y...</td>\n",
       "    </tr>\n",
       "    <tr>\n",
       "      <th>...</th>\n",
       "      <td>...</td>\n",
       "      <td>...</td>\n",
       "      <td>...</td>\n",
       "      <td>...</td>\n",
       "      <td>...</td>\n",
       "      <td>...</td>\n",
       "      <td>...</td>\n",
       "      <td>...</td>\n",
       "      <td>...</td>\n",
       "    </tr>\n",
       "    <tr>\n",
       "      <th>2809</th>\n",
       "      <td>2293</td>\n",
       "      <td>lexapro</td>\n",
       "      <td>1</td>\n",
       "      <td>Considerably Effective</td>\n",
       "      <td>Extremely Severe Side Effects</td>\n",
       "      <td>anxiety, stress</td>\n",
       "      <td>Eliminated or reduced symptoms of anxiety - el...</td>\n",
       "      <td>The worst, and the reason for d/c'ing, side ef...</td>\n",
       "      <td>I believe I have already done so.</td>\n",
       "    </tr>\n",
       "    <tr>\n",
       "      <th>2854</th>\n",
       "      <td>2273</td>\n",
       "      <td>lexapro</td>\n",
       "      <td>8</td>\n",
       "      <td>Highly Effective</td>\n",
       "      <td>No Side Effects</td>\n",
       "      <td>nerves</td>\n",
       "      <td>benefits: Nervous twitch went away under my ey...</td>\n",
       "      <td>I did not have any side effects</td>\n",
       "      <td>I recieved 5 mg/day for the first week. 1/2 a ...</td>\n",
       "    </tr>\n",
       "    <tr>\n",
       "      <th>2867</th>\n",
       "      <td>2295</td>\n",
       "      <td>lexapro</td>\n",
       "      <td>6</td>\n",
       "      <td>Marginally Effective</td>\n",
       "      <td>No Side Effects</td>\n",
       "      <td>depression</td>\n",
       "      <td>The treatment benefits were marginal at best. ...</td>\n",
       "      <td>On the plus side, I experienced no major side ...</td>\n",
       "      <td>The pills are administered once a day, daily, ...</td>\n",
       "    </tr>\n",
       "    <tr>\n",
       "      <th>3044</th>\n",
       "      <td>2264</td>\n",
       "      <td>lexapro</td>\n",
       "      <td>4</td>\n",
       "      <td>Moderately Effective</td>\n",
       "      <td>Severe Side Effects</td>\n",
       "      <td>depression</td>\n",
       "      <td>depression reduced slightly</td>\n",
       "      <td>could no longer have  orgasms</td>\n",
       "      <td>I took lexapro for depression, within 2 weeks ...</td>\n",
       "    </tr>\n",
       "    <tr>\n",
       "      <th>3077</th>\n",
       "      <td>2305</td>\n",
       "      <td>lexapro</td>\n",
       "      <td>7</td>\n",
       "      <td>Moderately Effective</td>\n",
       "      <td>Mild Side Effects</td>\n",
       "      <td>anxiety and depression</td>\n",
       "      <td>more relaxed and not so obsessive, i did not h...</td>\n",
       "      <td>loose bowels. some say i was not as much fun o...</td>\n",
       "      <td>I was given this drug b/c of feelings of sadne...</td>\n",
       "    </tr>\n",
       "  </tbody>\n",
       "</table>\n",
       "<p>63 rows × 9 columns</p>\n",
       "</div>"
      ],
      "text/plain": [
       "      Unnamed: 0 urlDrugName  rating           effectiveness  \\\n",
       "66          2285     lexapro       6    Moderately Effective   \n",
       "83          2319     lexapro       5    Moderately Effective   \n",
       "121         2321     lexapro       9        Highly Effective   \n",
       "198         2262     lexapro       1    Moderately Effective   \n",
       "205         2268     lexapro       7  Considerably Effective   \n",
       "...          ...         ...     ...                     ...   \n",
       "2809        2293     lexapro       1  Considerably Effective   \n",
       "2854        2273     lexapro       8        Highly Effective   \n",
       "2867        2295     lexapro       6    Marginally Effective   \n",
       "3044        2264     lexapro       4    Moderately Effective   \n",
       "3077        2305     lexapro       7    Moderately Effective   \n",
       "\n",
       "                        sideEffects                           condition  \\\n",
       "66                Mild Side Effects                          depression   \n",
       "83            Moderate Side Effects  depression and generalized anxiety   \n",
       "121               Mild Side Effects            major depression/anxiety   \n",
       "198             Severe Side Effects                          depression   \n",
       "205           Moderate Side Effects                  depression/anxiety   \n",
       "...                             ...                                 ...   \n",
       "2809  Extremely Severe Side Effects                     anxiety, stress   \n",
       "2854                No Side Effects                              nerves   \n",
       "2867                No Side Effects                          depression   \n",
       "3044            Severe Side Effects                          depression   \n",
       "3077              Mild Side Effects              anxiety and depression   \n",
       "\n",
       "                                         benefitsReview  \\\n",
       "66    Before I started on the drug Lexapro, I felt l...   \n",
       "83    I sought treatment for two problems in my life...   \n",
       "121   Before Lexapro I was so depressed I could not ...   \n",
       "198                                I felt less sadness.   \n",
       "205   Lexapro worked very well to make me feel bette...   \n",
       "...                                                 ...   \n",
       "2809  Eliminated or reduced symptoms of anxiety - el...   \n",
       "2854  benefits: Nervous twitch went away under my ey...   \n",
       "2867  The treatment benefits were marginal at best. ...   \n",
       "3044                        depression reduced slightly   \n",
       "3077  more relaxed and not so obsessive, i did not h...   \n",
       "\n",
       "                                      sideEffectsReview  \\\n",
       "66    In the first week of treatment I felt disconne...   \n",
       "83    I gained 15 pounds, which my doctor swears was...   \n",
       "121   I have some difficulty sleeping (waking up in ...   \n",
       "198   i felt less of every emotion.  i felt emotiona...   \n",
       "205   I gained ten pounds in the few months that I t...   \n",
       "...                                                 ...   \n",
       "2809  The worst, and the reason for d/c'ing, side ef...   \n",
       "2854                    I did not have any side effects   \n",
       "2867  On the plus side, I experienced no major side ...   \n",
       "3044                      could no longer have  orgasms   \n",
       "3077  loose bowels. some say i was not as much fun o...   \n",
       "\n",
       "                                         commentsReview  \n",
       "66        Lexapro was taken 2 times a day for 2 months.  \n",
       "83    I missed an appointment with my doctor and was...  \n",
       "121   I have found  that I have to take it at night ...  \n",
       "198   I took a whole 10 mg tablet the first time and...  \n",
       "205   I've taken several anti-depressants over the y...  \n",
       "...                                                 ...  \n",
       "2809                  I believe I have already done so.  \n",
       "2854  I recieved 5 mg/day for the first week. 1/2 a ...  \n",
       "2867  The pills are administered once a day, daily, ...  \n",
       "3044  I took lexapro for depression, within 2 weeks ...  \n",
       "3077  I was given this drug b/c of feelings of sadne...  \n",
       "\n",
       "[63 rows x 9 columns]"
      ]
     },
     "execution_count": 60,
     "metadata": {},
     "output_type": "execute_result"
    }
   ],
   "source": [
    "df[df['urlDrugName'] == 'lexapro']"
   ]
  },
  {
   "cell_type": "code",
   "execution_count": 40,
   "id": "a18d1cc7-1733-4263-8f90-08ac96c0311e",
   "metadata": {},
   "outputs": [],
   "source": [
    "for i in df[\"sideEffectsReview\"]:\n",
    "    dd = df[\"sideEffectsReview\"].isna().any().tolist()\n",
    "    if dd == 'True':\n",
    "        print(f\"Blank at {i}\")"
   ]
  },
  {
   "cell_type": "code",
   "execution_count": 17,
   "id": "3f3f9c5e-f163-4cdc-8350-8a9af210d888",
   "metadata": {},
   "outputs": [],
   "source": [
    "# check for blanks\n",
    "blank = df['urlDrugName'].isnull()\n",
    "for index, row in df.iterrows():\n",
    "    if pd.isnull(row['urlDrugName']):\n",
    "        print(f\"Blank at index {index}\")"
   ]
  },
  {
   "cell_type": "code",
   "execution_count": 19,
   "id": "4b18d9f3-40f6-45c2-8aed-5cc40f616481",
   "metadata": {},
   "outputs": [],
   "source": [
    "for i, v in df['urlDrugName'].isnull().items():\n",
    "    if v:\n",
    "        print(f\"Blank at index {i}\")"
   ]
  },
  {
   "cell_type": "code",
   "execution_count": 18,
   "id": "2da455df-5f7c-41c5-8b95-9970b6179b1a",
   "metadata": {},
   "outputs": [],
   "source": [
    "blanks = np.where(df['urlDrugName'].isnull())[0]\n",
    "for i in blanks:\n",
    "    print(f\"Blank at index {i}\")"
   ]
  },
  {
   "cell_type": "code",
   "execution_count": 62,
   "id": "9f5e3ee9-35f6-491e-842e-98963fe25d6d",
   "metadata": {},
   "outputs": [
    {
     "ename": "ModuleNotFoundError",
     "evalue": "No module named 'textblob'",
     "output_type": "error",
     "traceback": [
      "\u001b[1;31m---------------------------------------------------------------------------\u001b[0m",
      "\u001b[1;31mModuleNotFoundError\u001b[0m                       Traceback (most recent call last)",
      "Cell \u001b[1;32mIn[62], line 1\u001b[0m\n\u001b[1;32m----> 1\u001b[0m \u001b[38;5;28;01mfrom\u001b[39;00m \u001b[38;5;21;01mtextblob\u001b[39;00m \u001b[38;5;28;01mimport\u001b[39;00m TextBlob\n\u001b[0;32m      3\u001b[0m \u001b[38;5;28;01mfor\u001b[39;00m c \u001b[38;5;129;01min\u001b[39;00m df\u001b[38;5;241m.\u001b[39mcolumns[\u001b[38;5;241m6\u001b[39m:]:\n\u001b[0;32m      4\u001b[0m     df[c \u001b[38;5;241m+\u001b[39m \u001b[38;5;124m'\u001b[39m\u001b[38;5;124m_sentiment\u001b[39m\u001b[38;5;124m'\u001b[39m] \u001b[38;5;241m=\u001b[39m df[c]\u001b[38;5;241m.\u001b[39mapply(\u001b[38;5;28;01mlambda\u001b[39;00m x: TextBlob(x)\u001b[38;5;241m.\u001b[39msentiment\u001b[38;5;241m.\u001b[39mpolarity)\n",
      "\u001b[1;31mModuleNotFoundError\u001b[0m: No module named 'textblob'"
     ]
    }
   ],
   "source": [
    "#Sentiment Analysis\n",
    "from textblob import TextBlob\n",
    "\n",
    "for c in df.columns[6:]:\n",
    "    df[c + '_sentiment'] = df[c].apply(lambda x: TextBlob(x).sentiment.polarity)\n"
   ]
  },
  {
   "cell_type": "code",
   "execution_count": 66,
   "id": "32fd265b-3afd-4dda-9565-3c7893f4c50a",
   "metadata": {},
   "outputs": [],
   "source": [
    "from sklearn.decomposition import LatentDirichletAllocation as LDA"
   ]
  },
  {
   "cell_type": "code",
   "execution_count": 74,
   "id": "f0ef08f2-9ff3-4eb2-955b-4f5828687dd2",
   "metadata": {},
   "outputs": [
    {
     "ename": "KeyError",
     "evalue": "'monitor blood pressure , weight and asses for resolution of fluid'",
     "output_type": "error",
     "traceback": [
      "\u001b[1;31m---------------------------------------------------------------------------\u001b[0m",
      "\u001b[1;31mKeyError\u001b[0m                                  Traceback (most recent call last)",
      "File \u001b[1;32m~\\AppData\\Local\\Programs\\Python\\Python312\\Lib\\site-packages\\pandas\\core\\indexes\\base.py:3805\u001b[0m, in \u001b[0;36mIndex.get_loc\u001b[1;34m(self, key)\u001b[0m\n\u001b[0;32m   3804\u001b[0m \u001b[38;5;28;01mtry\u001b[39;00m:\n\u001b[1;32m-> 3805\u001b[0m     \u001b[38;5;28;01mreturn\u001b[39;00m \u001b[38;5;28;43mself\u001b[39;49m\u001b[38;5;241;43m.\u001b[39;49m\u001b[43m_engine\u001b[49m\u001b[38;5;241;43m.\u001b[39;49m\u001b[43mget_loc\u001b[49m\u001b[43m(\u001b[49m\u001b[43mcasted_key\u001b[49m\u001b[43m)\u001b[49m\n\u001b[0;32m   3806\u001b[0m \u001b[38;5;28;01mexcept\u001b[39;00m \u001b[38;5;167;01mKeyError\u001b[39;00m \u001b[38;5;28;01mas\u001b[39;00m err:\n",
      "File \u001b[1;32mindex.pyx:167\u001b[0m, in \u001b[0;36mpandas._libs.index.IndexEngine.get_loc\u001b[1;34m()\u001b[0m\n",
      "File \u001b[1;32mindex.pyx:196\u001b[0m, in \u001b[0;36mpandas._libs.index.IndexEngine.get_loc\u001b[1;34m()\u001b[0m\n",
      "File \u001b[1;32mpandas\\\\_libs\\\\hashtable_class_helper.pxi:7081\u001b[0m, in \u001b[0;36mpandas._libs.hashtable.PyObjectHashTable.get_item\u001b[1;34m()\u001b[0m\n",
      "File \u001b[1;32mpandas\\\\_libs\\\\hashtable_class_helper.pxi:7089\u001b[0m, in \u001b[0;36mpandas._libs.hashtable.PyObjectHashTable.get_item\u001b[1;34m()\u001b[0m\n",
      "\u001b[1;31mKeyError\u001b[0m: 'monitor blood pressure , weight and asses for resolution of fluid'",
      "\nThe above exception was the direct cause of the following exception:\n",
      "\u001b[1;31mKeyError\u001b[0m                                  Traceback (most recent call last)",
      "Cell \u001b[1;32mIn[74], line 3\u001b[0m\n\u001b[0;32m      1\u001b[0m \u001b[38;5;28;01mfor\u001b[39;00m c \u001b[38;5;129;01min\u001b[39;00m df[\u001b[38;5;124m'\u001b[39m\u001b[38;5;124mcommentsReview\u001b[39m\u001b[38;5;124m'\u001b[39m]:\n\u001b[0;32m      2\u001b[0m     lds \u001b[38;5;241m=\u001b[39m LDA(n_components\u001b[38;5;241m=\u001b[39m\u001b[38;5;241m20\u001b[39m)\n\u001b[1;32m----> 3\u001b[0m     df[c \u001b[38;5;241m+\u001b[39m \u001b[38;5;124m'\u001b[39m\u001b[38;5;124m_topics\u001b[39m\u001b[38;5;124m'\u001b[39m] \u001b[38;5;241m=\u001b[39m lds\u001b[38;5;241m.\u001b[39mfit_transform(\u001b[43mdf\u001b[49m\u001b[43m[\u001b[49m\u001b[43mc\u001b[49m\u001b[43m]\u001b[49m)\n",
      "File \u001b[1;32m~\\AppData\\Local\\Programs\\Python\\Python312\\Lib\\site-packages\\pandas\\core\\frame.py:4102\u001b[0m, in \u001b[0;36mDataFrame.__getitem__\u001b[1;34m(self, key)\u001b[0m\n\u001b[0;32m   4100\u001b[0m \u001b[38;5;28;01mif\u001b[39;00m \u001b[38;5;28mself\u001b[39m\u001b[38;5;241m.\u001b[39mcolumns\u001b[38;5;241m.\u001b[39mnlevels \u001b[38;5;241m>\u001b[39m \u001b[38;5;241m1\u001b[39m:\n\u001b[0;32m   4101\u001b[0m     \u001b[38;5;28;01mreturn\u001b[39;00m \u001b[38;5;28mself\u001b[39m\u001b[38;5;241m.\u001b[39m_getitem_multilevel(key)\n\u001b[1;32m-> 4102\u001b[0m indexer \u001b[38;5;241m=\u001b[39m \u001b[38;5;28;43mself\u001b[39;49m\u001b[38;5;241;43m.\u001b[39;49m\u001b[43mcolumns\u001b[49m\u001b[38;5;241;43m.\u001b[39;49m\u001b[43mget_loc\u001b[49m\u001b[43m(\u001b[49m\u001b[43mkey\u001b[49m\u001b[43m)\u001b[49m\n\u001b[0;32m   4103\u001b[0m \u001b[38;5;28;01mif\u001b[39;00m is_integer(indexer):\n\u001b[0;32m   4104\u001b[0m     indexer \u001b[38;5;241m=\u001b[39m [indexer]\n",
      "File \u001b[1;32m~\\AppData\\Local\\Programs\\Python\\Python312\\Lib\\site-packages\\pandas\\core\\indexes\\base.py:3812\u001b[0m, in \u001b[0;36mIndex.get_loc\u001b[1;34m(self, key)\u001b[0m\n\u001b[0;32m   3807\u001b[0m     \u001b[38;5;28;01mif\u001b[39;00m \u001b[38;5;28misinstance\u001b[39m(casted_key, \u001b[38;5;28mslice\u001b[39m) \u001b[38;5;129;01mor\u001b[39;00m (\n\u001b[0;32m   3808\u001b[0m         \u001b[38;5;28misinstance\u001b[39m(casted_key, abc\u001b[38;5;241m.\u001b[39mIterable)\n\u001b[0;32m   3809\u001b[0m         \u001b[38;5;129;01mand\u001b[39;00m \u001b[38;5;28many\u001b[39m(\u001b[38;5;28misinstance\u001b[39m(x, \u001b[38;5;28mslice\u001b[39m) \u001b[38;5;28;01mfor\u001b[39;00m x \u001b[38;5;129;01min\u001b[39;00m casted_key)\n\u001b[0;32m   3810\u001b[0m     ):\n\u001b[0;32m   3811\u001b[0m         \u001b[38;5;28;01mraise\u001b[39;00m InvalidIndexError(key)\n\u001b[1;32m-> 3812\u001b[0m     \u001b[38;5;28;01mraise\u001b[39;00m \u001b[38;5;167;01mKeyError\u001b[39;00m(key) \u001b[38;5;28;01mfrom\u001b[39;00m \u001b[38;5;21;01merr\u001b[39;00m\n\u001b[0;32m   3813\u001b[0m \u001b[38;5;28;01mexcept\u001b[39;00m \u001b[38;5;167;01mTypeError\u001b[39;00m:\n\u001b[0;32m   3814\u001b[0m     \u001b[38;5;66;03m# If we have a listlike key, _check_indexing_error will raise\u001b[39;00m\n\u001b[0;32m   3815\u001b[0m     \u001b[38;5;66;03m#  InvalidIndexError. Otherwise we fall through and re-raise\u001b[39;00m\n\u001b[0;32m   3816\u001b[0m     \u001b[38;5;66;03m#  the TypeError.\u001b[39;00m\n\u001b[0;32m   3817\u001b[0m     \u001b[38;5;28mself\u001b[39m\u001b[38;5;241m.\u001b[39m_check_indexing_error(key)\n",
      "\u001b[1;31mKeyError\u001b[0m: 'monitor blood pressure , weight and asses for resolution of fluid'"
     ]
    }
   ],
   "source": [
    "for c in df['commentsReview']:\n",
    "    lds = LDA(n_components=20)\n",
    "    df[c + '_topics'] = lds.fit_transform(df[c])"
   ]
  },
  {
   "cell_type": "code",
   "execution_count": 75,
   "id": "e95d79d5-0dab-4c01-b000-ce9520d0f6df",
   "metadata": {},
   "outputs": [
    {
     "ename": "ModuleNotFoundError",
     "evalue": "No module named 'nltk'",
     "output_type": "error",
     "traceback": [
      "\u001b[1;31m---------------------------------------------------------------------------\u001b[0m",
      "\u001b[1;31mModuleNotFoundError\u001b[0m                       Traceback (most recent call last)",
      "Cell \u001b[1;32mIn[75], line 1\u001b[0m\n\u001b[1;32m----> 1\u001b[0m \u001b[38;5;28;01mimport\u001b[39;00m \u001b[38;5;21;01mnltk\u001b[39;00m\n",
      "\u001b[1;31mModuleNotFoundError\u001b[0m: No module named 'nltk'"
     ]
    }
   ],
   "source": [
    "import nltk"
   ]
  },
  {
   "cell_type": "code",
   "execution_count": 76,
   "id": "e6ef83f5-4fc3-481d-a477-ee1b323646db",
   "metadata": {},
   "outputs": [
    {
     "ename": "ModuleNotFoundError",
     "evalue": "No module named 'spacy'",
     "output_type": "error",
     "traceback": [
      "\u001b[1;31m---------------------------------------------------------------------------\u001b[0m",
      "\u001b[1;31mModuleNotFoundError\u001b[0m                       Traceback (most recent call last)",
      "Cell \u001b[1;32mIn[76], line 1\u001b[0m\n\u001b[1;32m----> 1\u001b[0m \u001b[38;5;28;01mimport\u001b[39;00m \u001b[38;5;21;01mspacy\u001b[39;00m\n",
      "\u001b[1;31mModuleNotFoundError\u001b[0m: No module named 'spacy'"
     ]
    }
   ],
   "source": [
    "import spacy"
   ]
  },
  {
   "cell_type": "code",
   "execution_count": 79,
   "id": "a0320cca-5688-40a4-8ffd-98855dad98cf",
   "metadata": {},
   "outputs": [],
   "source": [
    "from sklearn.naive_bayes import MultinomialNB \n",
    "from sklearn.feature_extraction.text import TfidfVectorizer"
   ]
  },
  {
   "cell_type": "code",
   "execution_count": 80,
   "id": "ed2208ed-2322-443b-a1e9-9c612721030d",
   "metadata": {},
   "outputs": [
    {
     "ename": "ModuleNotFoundError",
     "evalue": "No module named 'keras'",
     "output_type": "error",
     "traceback": [
      "\u001b[1;31m---------------------------------------------------------------------------\u001b[0m",
      "\u001b[1;31mModuleNotFoundError\u001b[0m                       Traceback (most recent call last)",
      "Cell \u001b[1;32mIn[80], line 1\u001b[0m\n\u001b[1;32m----> 1\u001b[0m \u001b[38;5;28;01mfrom\u001b[39;00m \u001b[38;5;21;01mkeras\u001b[39;00m\u001b[38;5;21;01m.\u001b[39;00m\u001b[38;5;21;01mmodels\u001b[39;00m \u001b[38;5;28;01mimport\u001b[39;00m Sequential\n",
      "\u001b[1;31mModuleNotFoundError\u001b[0m: No module named 'keras'"
     ]
    }
   ],
   "source": [
    "from keras.models import Sequential"
   ]
  },
  {
   "cell_type": "code",
   "execution_count": null,
   "id": "3dae4d83-09bf-4e4c-9bc9-febc6fba089b",
   "metadata": {},
   "outputs": [],
   "source": []
  }
 ],
 "metadata": {
  "kernelspec": {
   "display_name": "Python 3 (ipykernel)",
   "language": "python",
   "name": "python3"
  },
  "language_info": {
   "codemirror_mode": {
    "name": "ipython",
    "version": 3
   },
   "file_extension": ".py",
   "mimetype": "text/x-python",
   "name": "python",
   "nbconvert_exporter": "python",
   "pygments_lexer": "ipython3",
   "version": "3.12.5"
  }
 },
 "nbformat": 4,
 "nbformat_minor": 5
}
