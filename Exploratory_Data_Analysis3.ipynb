{
 "cells": [
  {
   "cell_type": "code",
   "execution_count": 9,
   "metadata": {},
   "outputs": [],
   "source": [
    "import warnings\n",
    "warnings.filterwarnings(\"ignore\")"
   ]
  },
  {
   "cell_type": "markdown",
   "metadata": {
    "jp-MarkdownHeadingCollapsed": true
   },
   "source": [
    "## Import basic required packages"
   ]
  },
  {
   "cell_type": "code",
   "execution_count": 10,
   "metadata": {},
   "outputs": [],
   "source": [
    "import numpy as np\n",
    "import pandas as pd\n",
    "import matplotlib.pyplot as plt\n",
    "import seaborn as sns"
   ]
  },
  {
   "cell_type": "markdown",
   "metadata": {
    "jp-MarkdownHeadingCollapsed": true
   },
   "source": [
    "## Import data\n",
    "## Structured Data"
   ]
  },
  {
   "cell_type": "code",
   "execution_count": 11,
   "metadata": {},
   "outputs": [
    {
     "ename": "FileNotFoundError",
     "evalue": "[Errno 2] No such file or directory: 'Data/user_rating.csv'",
     "output_type": "error",
     "traceback": [
      "\u001b[1;31m---------------------------------------------------------------------------\u001b[0m",
      "\u001b[1;31mFileNotFoundError\u001b[0m                         Traceback (most recent call last)",
      "Cell \u001b[1;32mIn[11], line 2\u001b[0m\n\u001b[0;32m      1\u001b[0m \u001b[38;5;66;03m#Importing Data from .CSV Files - user_rating\u001b[39;00m\n\u001b[1;32m----> 2\u001b[0m user_rating \u001b[38;5;241m=\u001b[39m \u001b[43mpd\u001b[49m\u001b[38;5;241;43m.\u001b[39;49m\u001b[43mread_csv\u001b[49m\u001b[43m(\u001b[49m\u001b[38;5;124;43m\"\u001b[39;49m\u001b[38;5;124;43mData/user_rating.csv\u001b[39;49m\u001b[38;5;124;43m\"\u001b[39;49m\u001b[43m)\u001b[49m\n\u001b[0;32m      3\u001b[0m user_rating\u001b[38;5;241m.\u001b[39mhead()\n",
      "File \u001b[1;32m~\\AppData\\Local\\Programs\\Python\\Python312\\Lib\\site-packages\\pandas\\io\\parsers\\readers.py:1026\u001b[0m, in \u001b[0;36mread_csv\u001b[1;34m(filepath_or_buffer, sep, delimiter, header, names, index_col, usecols, dtype, engine, converters, true_values, false_values, skipinitialspace, skiprows, skipfooter, nrows, na_values, keep_default_na, na_filter, verbose, skip_blank_lines, parse_dates, infer_datetime_format, keep_date_col, date_parser, date_format, dayfirst, cache_dates, iterator, chunksize, compression, thousands, decimal, lineterminator, quotechar, quoting, doublequote, escapechar, comment, encoding, encoding_errors, dialect, on_bad_lines, delim_whitespace, low_memory, memory_map, float_precision, storage_options, dtype_backend)\u001b[0m\n\u001b[0;32m   1013\u001b[0m kwds_defaults \u001b[38;5;241m=\u001b[39m _refine_defaults_read(\n\u001b[0;32m   1014\u001b[0m     dialect,\n\u001b[0;32m   1015\u001b[0m     delimiter,\n\u001b[1;32m   (...)\u001b[0m\n\u001b[0;32m   1022\u001b[0m     dtype_backend\u001b[38;5;241m=\u001b[39mdtype_backend,\n\u001b[0;32m   1023\u001b[0m )\n\u001b[0;32m   1024\u001b[0m kwds\u001b[38;5;241m.\u001b[39mupdate(kwds_defaults)\n\u001b[1;32m-> 1026\u001b[0m \u001b[38;5;28;01mreturn\u001b[39;00m \u001b[43m_read\u001b[49m\u001b[43m(\u001b[49m\u001b[43mfilepath_or_buffer\u001b[49m\u001b[43m,\u001b[49m\u001b[43m \u001b[49m\u001b[43mkwds\u001b[49m\u001b[43m)\u001b[49m\n",
      "File \u001b[1;32m~\\AppData\\Local\\Programs\\Python\\Python312\\Lib\\site-packages\\pandas\\io\\parsers\\readers.py:620\u001b[0m, in \u001b[0;36m_read\u001b[1;34m(filepath_or_buffer, kwds)\u001b[0m\n\u001b[0;32m    617\u001b[0m _validate_names(kwds\u001b[38;5;241m.\u001b[39mget(\u001b[38;5;124m\"\u001b[39m\u001b[38;5;124mnames\u001b[39m\u001b[38;5;124m\"\u001b[39m, \u001b[38;5;28;01mNone\u001b[39;00m))\n\u001b[0;32m    619\u001b[0m \u001b[38;5;66;03m# Create the parser.\u001b[39;00m\n\u001b[1;32m--> 620\u001b[0m parser \u001b[38;5;241m=\u001b[39m \u001b[43mTextFileReader\u001b[49m\u001b[43m(\u001b[49m\u001b[43mfilepath_or_buffer\u001b[49m\u001b[43m,\u001b[49m\u001b[43m \u001b[49m\u001b[38;5;241;43m*\u001b[39;49m\u001b[38;5;241;43m*\u001b[39;49m\u001b[43mkwds\u001b[49m\u001b[43m)\u001b[49m\n\u001b[0;32m    622\u001b[0m \u001b[38;5;28;01mif\u001b[39;00m chunksize \u001b[38;5;129;01mor\u001b[39;00m iterator:\n\u001b[0;32m    623\u001b[0m     \u001b[38;5;28;01mreturn\u001b[39;00m parser\n",
      "File \u001b[1;32m~\\AppData\\Local\\Programs\\Python\\Python312\\Lib\\site-packages\\pandas\\io\\parsers\\readers.py:1620\u001b[0m, in \u001b[0;36mTextFileReader.__init__\u001b[1;34m(self, f, engine, **kwds)\u001b[0m\n\u001b[0;32m   1617\u001b[0m     \u001b[38;5;28mself\u001b[39m\u001b[38;5;241m.\u001b[39moptions[\u001b[38;5;124m\"\u001b[39m\u001b[38;5;124mhas_index_names\u001b[39m\u001b[38;5;124m\"\u001b[39m] \u001b[38;5;241m=\u001b[39m kwds[\u001b[38;5;124m\"\u001b[39m\u001b[38;5;124mhas_index_names\u001b[39m\u001b[38;5;124m\"\u001b[39m]\n\u001b[0;32m   1619\u001b[0m \u001b[38;5;28mself\u001b[39m\u001b[38;5;241m.\u001b[39mhandles: IOHandles \u001b[38;5;241m|\u001b[39m \u001b[38;5;28;01mNone\u001b[39;00m \u001b[38;5;241m=\u001b[39m \u001b[38;5;28;01mNone\u001b[39;00m\n\u001b[1;32m-> 1620\u001b[0m \u001b[38;5;28mself\u001b[39m\u001b[38;5;241m.\u001b[39m_engine \u001b[38;5;241m=\u001b[39m \u001b[38;5;28;43mself\u001b[39;49m\u001b[38;5;241;43m.\u001b[39;49m\u001b[43m_make_engine\u001b[49m\u001b[43m(\u001b[49m\u001b[43mf\u001b[49m\u001b[43m,\u001b[49m\u001b[43m \u001b[49m\u001b[38;5;28;43mself\u001b[39;49m\u001b[38;5;241;43m.\u001b[39;49m\u001b[43mengine\u001b[49m\u001b[43m)\u001b[49m\n",
      "File \u001b[1;32m~\\AppData\\Local\\Programs\\Python\\Python312\\Lib\\site-packages\\pandas\\io\\parsers\\readers.py:1880\u001b[0m, in \u001b[0;36mTextFileReader._make_engine\u001b[1;34m(self, f, engine)\u001b[0m\n\u001b[0;32m   1878\u001b[0m     \u001b[38;5;28;01mif\u001b[39;00m \u001b[38;5;124m\"\u001b[39m\u001b[38;5;124mb\u001b[39m\u001b[38;5;124m\"\u001b[39m \u001b[38;5;129;01mnot\u001b[39;00m \u001b[38;5;129;01min\u001b[39;00m mode:\n\u001b[0;32m   1879\u001b[0m         mode \u001b[38;5;241m+\u001b[39m\u001b[38;5;241m=\u001b[39m \u001b[38;5;124m\"\u001b[39m\u001b[38;5;124mb\u001b[39m\u001b[38;5;124m\"\u001b[39m\n\u001b[1;32m-> 1880\u001b[0m \u001b[38;5;28mself\u001b[39m\u001b[38;5;241m.\u001b[39mhandles \u001b[38;5;241m=\u001b[39m \u001b[43mget_handle\u001b[49m\u001b[43m(\u001b[49m\n\u001b[0;32m   1881\u001b[0m \u001b[43m    \u001b[49m\u001b[43mf\u001b[49m\u001b[43m,\u001b[49m\n\u001b[0;32m   1882\u001b[0m \u001b[43m    \u001b[49m\u001b[43mmode\u001b[49m\u001b[43m,\u001b[49m\n\u001b[0;32m   1883\u001b[0m \u001b[43m    \u001b[49m\u001b[43mencoding\u001b[49m\u001b[38;5;241;43m=\u001b[39;49m\u001b[38;5;28;43mself\u001b[39;49m\u001b[38;5;241;43m.\u001b[39;49m\u001b[43moptions\u001b[49m\u001b[38;5;241;43m.\u001b[39;49m\u001b[43mget\u001b[49m\u001b[43m(\u001b[49m\u001b[38;5;124;43m\"\u001b[39;49m\u001b[38;5;124;43mencoding\u001b[39;49m\u001b[38;5;124;43m\"\u001b[39;49m\u001b[43m,\u001b[49m\u001b[43m \u001b[49m\u001b[38;5;28;43;01mNone\u001b[39;49;00m\u001b[43m)\u001b[49m\u001b[43m,\u001b[49m\n\u001b[0;32m   1884\u001b[0m \u001b[43m    \u001b[49m\u001b[43mcompression\u001b[49m\u001b[38;5;241;43m=\u001b[39;49m\u001b[38;5;28;43mself\u001b[39;49m\u001b[38;5;241;43m.\u001b[39;49m\u001b[43moptions\u001b[49m\u001b[38;5;241;43m.\u001b[39;49m\u001b[43mget\u001b[49m\u001b[43m(\u001b[49m\u001b[38;5;124;43m\"\u001b[39;49m\u001b[38;5;124;43mcompression\u001b[39;49m\u001b[38;5;124;43m\"\u001b[39;49m\u001b[43m,\u001b[49m\u001b[43m \u001b[49m\u001b[38;5;28;43;01mNone\u001b[39;49;00m\u001b[43m)\u001b[49m\u001b[43m,\u001b[49m\n\u001b[0;32m   1885\u001b[0m \u001b[43m    \u001b[49m\u001b[43mmemory_map\u001b[49m\u001b[38;5;241;43m=\u001b[39;49m\u001b[38;5;28;43mself\u001b[39;49m\u001b[38;5;241;43m.\u001b[39;49m\u001b[43moptions\u001b[49m\u001b[38;5;241;43m.\u001b[39;49m\u001b[43mget\u001b[49m\u001b[43m(\u001b[49m\u001b[38;5;124;43m\"\u001b[39;49m\u001b[38;5;124;43mmemory_map\u001b[39;49m\u001b[38;5;124;43m\"\u001b[39;49m\u001b[43m,\u001b[49m\u001b[43m \u001b[49m\u001b[38;5;28;43;01mFalse\u001b[39;49;00m\u001b[43m)\u001b[49m\u001b[43m,\u001b[49m\n\u001b[0;32m   1886\u001b[0m \u001b[43m    \u001b[49m\u001b[43mis_text\u001b[49m\u001b[38;5;241;43m=\u001b[39;49m\u001b[43mis_text\u001b[49m\u001b[43m,\u001b[49m\n\u001b[0;32m   1887\u001b[0m \u001b[43m    \u001b[49m\u001b[43merrors\u001b[49m\u001b[38;5;241;43m=\u001b[39;49m\u001b[38;5;28;43mself\u001b[39;49m\u001b[38;5;241;43m.\u001b[39;49m\u001b[43moptions\u001b[49m\u001b[38;5;241;43m.\u001b[39;49m\u001b[43mget\u001b[49m\u001b[43m(\u001b[49m\u001b[38;5;124;43m\"\u001b[39;49m\u001b[38;5;124;43mencoding_errors\u001b[39;49m\u001b[38;5;124;43m\"\u001b[39;49m\u001b[43m,\u001b[49m\u001b[43m \u001b[49m\u001b[38;5;124;43m\"\u001b[39;49m\u001b[38;5;124;43mstrict\u001b[39;49m\u001b[38;5;124;43m\"\u001b[39;49m\u001b[43m)\u001b[49m\u001b[43m,\u001b[49m\n\u001b[0;32m   1888\u001b[0m \u001b[43m    \u001b[49m\u001b[43mstorage_options\u001b[49m\u001b[38;5;241;43m=\u001b[39;49m\u001b[38;5;28;43mself\u001b[39;49m\u001b[38;5;241;43m.\u001b[39;49m\u001b[43moptions\u001b[49m\u001b[38;5;241;43m.\u001b[39;49m\u001b[43mget\u001b[49m\u001b[43m(\u001b[49m\u001b[38;5;124;43m\"\u001b[39;49m\u001b[38;5;124;43mstorage_options\u001b[39;49m\u001b[38;5;124;43m\"\u001b[39;49m\u001b[43m,\u001b[49m\u001b[43m \u001b[49m\u001b[38;5;28;43;01mNone\u001b[39;49;00m\u001b[43m)\u001b[49m\u001b[43m,\u001b[49m\n\u001b[0;32m   1889\u001b[0m \u001b[43m\u001b[49m\u001b[43m)\u001b[49m\n\u001b[0;32m   1890\u001b[0m \u001b[38;5;28;01massert\u001b[39;00m \u001b[38;5;28mself\u001b[39m\u001b[38;5;241m.\u001b[39mhandles \u001b[38;5;129;01mis\u001b[39;00m \u001b[38;5;129;01mnot\u001b[39;00m \u001b[38;5;28;01mNone\u001b[39;00m\n\u001b[0;32m   1891\u001b[0m f \u001b[38;5;241m=\u001b[39m \u001b[38;5;28mself\u001b[39m\u001b[38;5;241m.\u001b[39mhandles\u001b[38;5;241m.\u001b[39mhandle\n",
      "File \u001b[1;32m~\\AppData\\Local\\Programs\\Python\\Python312\\Lib\\site-packages\\pandas\\io\\common.py:873\u001b[0m, in \u001b[0;36mget_handle\u001b[1;34m(path_or_buf, mode, encoding, compression, memory_map, is_text, errors, storage_options)\u001b[0m\n\u001b[0;32m    868\u001b[0m \u001b[38;5;28;01melif\u001b[39;00m \u001b[38;5;28misinstance\u001b[39m(handle, \u001b[38;5;28mstr\u001b[39m):\n\u001b[0;32m    869\u001b[0m     \u001b[38;5;66;03m# Check whether the filename is to be opened in binary mode.\u001b[39;00m\n\u001b[0;32m    870\u001b[0m     \u001b[38;5;66;03m# Binary mode does not support 'encoding' and 'newline'.\u001b[39;00m\n\u001b[0;32m    871\u001b[0m     \u001b[38;5;28;01mif\u001b[39;00m ioargs\u001b[38;5;241m.\u001b[39mencoding \u001b[38;5;129;01mand\u001b[39;00m \u001b[38;5;124m\"\u001b[39m\u001b[38;5;124mb\u001b[39m\u001b[38;5;124m\"\u001b[39m \u001b[38;5;129;01mnot\u001b[39;00m \u001b[38;5;129;01min\u001b[39;00m ioargs\u001b[38;5;241m.\u001b[39mmode:\n\u001b[0;32m    872\u001b[0m         \u001b[38;5;66;03m# Encoding\u001b[39;00m\n\u001b[1;32m--> 873\u001b[0m         handle \u001b[38;5;241m=\u001b[39m \u001b[38;5;28;43mopen\u001b[39;49m\u001b[43m(\u001b[49m\n\u001b[0;32m    874\u001b[0m \u001b[43m            \u001b[49m\u001b[43mhandle\u001b[49m\u001b[43m,\u001b[49m\n\u001b[0;32m    875\u001b[0m \u001b[43m            \u001b[49m\u001b[43mioargs\u001b[49m\u001b[38;5;241;43m.\u001b[39;49m\u001b[43mmode\u001b[49m\u001b[43m,\u001b[49m\n\u001b[0;32m    876\u001b[0m \u001b[43m            \u001b[49m\u001b[43mencoding\u001b[49m\u001b[38;5;241;43m=\u001b[39;49m\u001b[43mioargs\u001b[49m\u001b[38;5;241;43m.\u001b[39;49m\u001b[43mencoding\u001b[49m\u001b[43m,\u001b[49m\n\u001b[0;32m    877\u001b[0m \u001b[43m            \u001b[49m\u001b[43merrors\u001b[49m\u001b[38;5;241;43m=\u001b[39;49m\u001b[43merrors\u001b[49m\u001b[43m,\u001b[49m\n\u001b[0;32m    878\u001b[0m \u001b[43m            \u001b[49m\u001b[43mnewline\u001b[49m\u001b[38;5;241;43m=\u001b[39;49m\u001b[38;5;124;43m\"\u001b[39;49m\u001b[38;5;124;43m\"\u001b[39;49m\u001b[43m,\u001b[49m\n\u001b[0;32m    879\u001b[0m \u001b[43m        \u001b[49m\u001b[43m)\u001b[49m\n\u001b[0;32m    880\u001b[0m     \u001b[38;5;28;01melse\u001b[39;00m:\n\u001b[0;32m    881\u001b[0m         \u001b[38;5;66;03m# Binary mode\u001b[39;00m\n\u001b[0;32m    882\u001b[0m         handle \u001b[38;5;241m=\u001b[39m \u001b[38;5;28mopen\u001b[39m(handle, ioargs\u001b[38;5;241m.\u001b[39mmode)\n",
      "\u001b[1;31mFileNotFoundError\u001b[0m: [Errno 2] No such file or directory: 'Data/user_rating.csv'"
     ]
    }
   ],
   "source": [
    "#Importing Data from .CSV Files - user_rating\n",
    "user_rating = pd.read_csv(\"Data/user_rating.csv\")\n",
    "user_rating.head()"
   ]
  },
  {
   "cell_type": "code",
   "execution_count": null,
   "metadata": {},
   "outputs": [],
   "source": [
    "#Importing Data from Spread Sheets - consumer_survey\n",
    "consumer_survey = pd.read_excel(\"Data/consumer_survey.xlsx\")\n",
    "consumer_survey.head()"
   ]
  },
  {
   "cell_type": "code",
   "execution_count": null,
   "metadata": {},
   "outputs": [],
   "source": [
    "#Importing Data from Spread Sheets - restaurant_parking\n",
    "restaurant_parking = pd.read_excel(\"Data/restaurant_parking.xlsx\")\n",
    "restaurant_parking.head()"
   ]
  },
  {
   "cell_type": "code",
   "execution_count": null,
   "metadata": {},
   "outputs": [],
   "source": [
    "#Importing Data from Spread Sheets - dining_preferences\n",
    "dining_preferences = pd.read_excel(\"Data/dining_preferences.xlsx\")\n",
    "dining_preferences.head()"
   ]
  },
  {
   "cell_type": "code",
   "execution_count": null,
   "metadata": {},
   "outputs": [],
   "source": [
    "#Importing Data from Spread Sheets - restaurant cuisine\n",
    "restaurant_cuisine = pd.read_excel(\"Data/restaurant_cuisine.xlsx\")\n",
    "restaurant_cuisine.head()"
   ]
  },
  {
   "cell_type": "markdown",
   "metadata": {},
   "source": [
    "#### Optional code for MS Access Database\n",
    "#### Connecting and Fetching Data from MS Access Database - cuisine table\n",
    "import pyodbc\n",
    "\n",
    "conn_str = (r'Driver={Microsoft Access Driver (*.mdb, *.accdb)};DBQ=Data/restaurant_cuisine.accdb;')\n",
    "\n",
    "conn = pyodbc.connect(conn_str)\n",
    "\n",
    "cuisine = pd.read_sql('select * from cuisine', conn)\n",
    "\n",
    "conn.close()\n",
    "\n",
    "cuisine.head()"
   ]
  },
  {
   "cell_type": "code",
   "execution_count": null,
   "metadata": {},
   "outputs": [],
   "source": [
    "# SQLite can be used as an open source data base framework\n",
    "# Incase sqlite3 is not installed, uncomment the line below, run it and restart the kernel\n",
    "# !pip install db-sqlite3"
   ]
  },
  {
   "cell_type": "code",
   "execution_count": null,
   "metadata": {},
   "outputs": [],
   "source": [
    "#Importing Data from SQL database - restaurant_details table\n",
    "import sqlite3\n",
    "conn = sqlite3.connect('r_details.db')\n",
    "c = conn.cursor()\n",
    "\n",
    "# creating table\n",
    "c.execute('''create table restaurant_details\n",
    "(placeID number CONSTRAINT pk_p_p1 PRIMARY KEY, name varchar2(50),\n",
    "address varchar2(60), state varchar2(20),\n",
    "country varchar2(20), zip varchar2(20), alcohol varchar2(30),\n",
    "smoking_area varchar2(20), price varchar2(20),area varchar2(20),\n",
    "other_services varchar2(20), Region varchar2(10),\n",
    "Average_dine_in_per_month number);\n",
    "''')"
   ]
  },
  {
   "cell_type": "code",
   "execution_count": null,
   "metadata": {},
   "outputs": [],
   "source": [
    "# populating values in the table\n",
    "c.executescript(\"\"\"\n",
    "    insert into restaurant_details values (134999,' Kiku Cuernavaca ',' Revolucion ',' Morelos ',' Mexico ','  ',' No_Alcohol_Served ',' none ',' medium ',' closed ',' none ',' West ',677);\n",
    "insert into restaurant_details values (132825,' puesto de tacos ',' esquina santos degollado y leon guzman ',' s.l.p. ',' mexico ',' 78280 ',' No_Alcohol_Served ',' none ',' low ',' open ',' none ',' West ',561);\n",
    "insert into restaurant_details values (135106,' El Rincon de San Francisco ',' Universidad 169 ',' San Luis Potosi ',' Mexico ',' 78000 ',' Wine-Beer ',' only at bar ',' medium ',' open ',' none ',' East ',743);\n",
    "insert into restaurant_details values (132667,' little pizza Emilio Portes Gil ',' calle emilio portes gil ',' tamaulipas ',' NA ','  ',' No_Alcohol_Served ',' none ',' low ',' closed ',' none ',' East ',546);\n",
    "insert into restaurant_details values (132613,' carnitas_mata ',' lic. Emilio portes gil ',' Tamaulipas ',' Mexico ','  ',' No_Alcohol_Served ',' permitted ',' medium ',' closed ',' none ',' East ',697);\n",
    "insert into restaurant_details values (135040,' Restaurant los Compadres ',' Camino a Simon Diaz 155 Centro ',' SLP ',' Mexico ',' 74000 ',' Wine-Beer ',' none ',' high ',' closed ',' none ',' West ',888);\n",
    "insert into restaurant_details values (132732,' Taqueria EL amigo  ',' Calle Mezquite Fracc Framboyanes ',' Tamaulipas ',' Mexico ',' 87018 ',' No_Alcohol_Served ',' none ',' low ',' open ',' none ',' West ',735);\n",
    "insert into restaurant_details values (132875,' shi ro ie ','  ','  ','  ','  ',' Wine-Beer ',' section ',' high ',' open ',' Internet ',' West ',980);\n",
    "insert into restaurant_details values (132609,' Pollo_Frito_Buenos_Aires ',' tampico ',' Tamaulipas ',' Mexico ','  ',' No_Alcohol_Served ',' not permitted ',' low ',' closed ',' none ',' East ',728);\n",
    "insert into restaurant_details values (135082,' la Estrella de Dimas ',' Villa de Pozos 192 Villa de Pozos ',' SLP ',' Mexico ',' 78421 ',' No_Alcohol_Served ',' none ',' medium ',' closed ',' none ',' East ',600);\n",
    "insert into restaurant_details values (135070,' Restaurante 75 ',' Villa de Pozos 4497 Villa de Pozos ',' SLP ',' Mexico ',' 78421 ',' No_Alcohol_Served ',' none ',' medium ',' closed ',' none ',' East ',415);\n",
    "insert into restaurant_details values (135069,' Abondance Restaurante Bar ',' Industrias 908 Valle Dorado ',' SLP ',' Mexico ',' 78399 ',' Wine-Beer ',' none ',' low ',' closed ',' none ',' East ',606);\n",
    "insert into restaurant_details values (135065,' El angel Restaurante ',' Venustiano Carranza 1625 Jardin ',' SLP ',' Mexico ',' 78250 ',' Wine-Beer ',' section ',' high ',' closed ',' none ',' East ',681);\n",
    "insert into restaurant_details values (135076,' Restaurante Pueblo Bonito ',' Mexico 2015 Providencia ',' SLP ',' Mexico ',' 78395 ',' Wine-Beer ',' none ',' high ',' closed ',' none ',' East ',993);\n",
    "insert into restaurant_details values (135086,' Mcdonalds Parque Tangamanga ',' Lateral Salvador Nava Martinez 3145 ',' SLP ',' Mexico ',' 78290 ',' No_Alcohol_Served ',' not permitted ',' medium ',' closed ',' none ',' East ',621);\n",
    "insert into restaurant_details values (132870,' Tortas y hamburguesas el gordo ',' Ricardo B. Anaya ',' San Luis Potosi ',' Mexico ','  ',' No_Alcohol_Served ',' not permitted ',' low ',' closed ',' none ',' East ',738);\n",
    "insert into restaurant_details values (132854,' Sirlone ',' carr. mexico ',' San Luis Potosi ',' Mexico ','  ',' Wine-Beer ',' none ',' medium ',' closed ',' none ',' East ',1048);\n",
    "insert into restaurant_details values (132937,' rockabilly  ',' agustin de iturbide ',' san luis potosi ',' mexico ','  ',' Full_Bar ',' section ',' low ',' closed ',' variety ',' West ',904);\n",
    "insert into restaurant_details values (132856,' Unicols Pizza ',' Plaza del Carmen ',' San Luis Potosi ',' Mexico ','  ',' Wine-Beer ',' none ',' low ',' closed ',' none ',' West ',1008);\n",
    "insert into restaurant_details values (132668,' TACOS EL GUERO ','  ',' tamaulipas ',' mexico ','  ',' No_Alcohol_Served ',' none ',' low ',' closed ',' none ',' East ',550);\n",
    "insert into restaurant_details values (135033,' Restaurant El Muladar de Calzada ',' De Guadalupe 460 San Miguelito ',' SLP ',' Mexico ',' 78399 ',' No_Alcohol_Served ',' section ',' medium ',' closed ',' none ',' East ',747);\n",
    "insert into restaurant_details values (132862,' La Posada del Virrey ',' Av. V. Carranza ',' San Luis Potosi ',' Mexico ','  ',' Wine-Beer ',' none ',' high ',' closed ',' none ',' East ',485);\n",
    "insert into restaurant_details values (134983,' Clothesline Carlos N Charlies ',' Domingo 10 711 El Empleado ',' Morelos ',' Mexico ',' 62250 ',' Full_Bar ',' section ',' high ',' closed ',' none ',' East ',652);\n",
    "insert into restaurant_details values (132851,' KFC ','  ',' San Luis Potosi ',' Mexico ','  ',' No_Alcohol_Served ',' not permitted ',' low ',' closed ',' none ',' East ',484);\n",
    "insert into restaurant_details values (135013,' Giovannis ',' 40 Norte Civac 1RA. Seccion ',' Morelos ',' Mexico ','  ',' No_Alcohol_Served ',' none ',' low ',' closed ',' none ',' East ',411);\n",
    "insert into restaurant_details values (135042,' Restaurant Oriental Express ',' Tangamanga 7 Tangamanga ',' SLP ',' Mexico ',' 78269 ',' No_Alcohol_Served ',' none ',' medium ',' closed ',' none ',' East ',347);\n",
    "insert into restaurant_details values (132768,' Mariscos Tia Licha ',' avenida salvador montiel  ',' morelos ',' mexico ',' 62320 ',' No_Alcohol_Served ',' not permitted ',' medium ',' closed ',' none ',' West ',917);\n",
    "insert into restaurant_details values (132561,' cafe ambar ','  ','  ','  ','  ',' No_Alcohol_Served ',' none ',' low ',' closed ',' none ',' East ',176);\n",
    "insert into restaurant_details values (135045,' Restaurante la Gran Via ',' Venustiano Carranza 560 Centro ',' SLP ',' Mexico ',' 78000 ',' Wine-Beer ',' none ',' high ',' closed ',' none ',' East ',443);\n",
    "insert into restaurant_details values (132847,' don burguers ',' r.b. anaya esq. florencia ',' slp ',' mexico ','  ',' No_Alcohol_Served ',' none ',' low ',' open ',' none ',' East ',362);\n",
    "insert into restaurant_details values (135054,' Restaurante y Pescaderia Tampico ',' Ricardo B. Anaya 2700 Estrella de Oriente ',' SLP ',' Mexico ',' 78000S ',' No_Alcohol_Served ',' none ',' high ',' closed ',' none ',' West ',355);\n",
    "insert into restaurant_details values (134975,' Rincon del Bife ','  ','  ','  ','  ',' Full_Bar ',' section ',' high ',' closed ',' variety ',' West ',777);\n",
    "insert into restaurant_details values (135053,' La Fontana Pizza Restaurante and Cafe ',' Satelite 606 Satelite ',' SLP ',' Mexico ',' 62460 ',' No_Alcohol_Served ',' section ',' high ',' closed ',' none ',' East ',565);\n",
    "insert into restaurant_details values (135050,' Restaurante la Estrella de Dima ',' Soledad Sn Arboledas de Soledad ',' SLP ',' Mexico ',' 78430 ',' Wine-Beer ',' none ',' high ',' closed ',' none ',' West ',773);\n",
    "insert into restaurant_details values (135025,' El Rincon de San Francisco ',' 1a. de Lozada 1 ',' SLP ',' Mexico ','  ',' No_Alcohol_Served ',' none ',' medium ',' closed ',' none ',' East ',344);\n",
    "insert into restaurant_details values (135030,' Preambulo Wifi Zone Cafe ',' Anahuac 805 ',' SLP ',' Mexico ','  ',' No_Alcohol_Served ',' none ',' medium ',' closed ',' Internet ',' West ',746);\n",
    "insert into restaurant_details values (135057,' El Herradero Restaurante and Bar ',' Costado Sur Central Camionera Km 2 ',' SLP ',' Mexico ',' 78390 ',' Wine-Beer ',' section ',' medium ',' closed ',' none ',' East ',674);\n",
    "insert into restaurant_details values (135079,' Koye Sushi ',' Nereo Rodriguez Barragan 450 E Centro ',' SLP ',' Mexico ',' 78000 ',' No_Alcohol_Served ',' none ',' high ',' closed ',' none ',' East ',748);\n",
    "insert into restaurant_details values (134992,' Restaurant Teely ',' La Pradera ',' Morelos ',' Mexico ','  ',' Wine-Beer ',' section ',' high ',' closed ',' none ',' East ',694);\n",
    "insert into restaurant_details values (132954,' la parroquia ',' venustiano carranza ',' san luis potosi ',' ? ','  ',' No_Alcohol_Served ',' not permitted ',' medium ',' closed ',' none ',' West ',897);\n",
    "insert into restaurant_details values (135041,' Luna Cafe ',' Francisco I. Madero 215 ',' SLP ',' Mexico ','  ',' Wine-Beer ',' none ',' medium ',' closed ',' none ',' West ',525);\n",
    "insert into restaurant_details values (132608,' Hamburguesas La perica ',' cd. mier ',' Tamaulipas ',' Mexico ','  ',' No_Alcohol_Served ',' permitted ',' low ',' open ',' none ',' West ',965);\n",
    "insert into restaurant_details values (135046,' Restaurante El Reyecito ',' Agricultura 595 del Valle ',' SLP ',' Mexico ',' 78200 ',' No_Alcohol_Served ',' none ',' medium ',' closed ',' none ',' East ',638);\n",
    "insert into restaurant_details values (132564,' churchs ','  ','  ','  ','  ',' No_Alcohol_Served ',' none ',' low ',' closed ',' none ',' West ',713);\n",
    "insert into restaurant_details values (132869,' Dominos Pizza ',' Ricardo B. Anaya ',' San Luis Potosi ',' Mexico ','  ',' No_Alcohol_Served ',' not permitted ',' medium ',' closed ',' none ',' West ',860);\n",
    "insert into restaurant_details values (132925,' el pueblito ','  ','  ','  ','  ',' Wine-Beer ',' not permitted ',' medium ',' closed ',' none ',' East ',348);\n",
    "insert into restaurant_details values (132955,' emilianos ',' venustiano carranza ',' mexico ','  ','  ',' Wine-Beer ',' none ',' low ',' closed ',' variety ',' East ',859);\n",
    "insert into restaurant_details values (135059,' Restaurant Bar Hacienda los Martinez ',' Santos Degollado 745 los Alamitos ',' SLP ',' Mexico ',' 78250 ',' Wine-Beer ',' section ',' medium ',' closed ',' none ',' East ',776);\n",
    "insert into restaurant_details values (135001,' Vips ',' Emiliano Zapata No. 825 Tlaltenongo ',' Morelos ',' Mexico ',' 62170 ',' Wine-Beer ',' none ',' medium ',' closed ',' none ',' West ',765);\n",
    "insert into restaurant_details values (135063,' Restaurante Alhondiga ',' Alhondiga 62 Centro ',' SLP ',' Mexico ',' 78000 ',' No_Alcohol_Served ',' none ',' medium ',' closed ',' none ',' West ',775);\n",
    "insert into restaurant_details values (135080,' los Toneles ',' Estatuto Juridico 1040 Burocratas ',' SLP ',' Mexico ',' 78270 ',' No_Alcohol_Served ',' section ',' high ',' closed ',' none ',' East ',466);\n",
    "insert into restaurant_details values (135000,' Restaurant los Pinos ',' Federal Mexico - Acapulco 10 3 de Mayo ',' Morelos ',' Mexico ',' 62790 ',' No_Alcohol_Served ',' none ',' medium ',' closed ',' none ',' West ',487);\n",
    "insert into restaurant_details values (135066,' Restaurante Guerra ',' 20 de Noviembre 1817 Tlaxcala ',' SLP ',' Mexico ',' 78038 ',' Wine-Beer ',' section ',' high ',' closed ',' none ',' East ',484);\n",
    "insert into restaurant_details values (135034,' Michiko Restaurant Japones ',' Cordillera de Los Alpes 160 Lomas 2 Seccion ',' SLP ',' Mexico ',' 78210 ',' No_Alcohol_Served ',' none ',' medium ',' closed ',' none ',' East ',354);\n",
    "insert into restaurant_details values (135060,' Restaurante Marisco Sam ',' Ignacio Allende 785 Centro ',' SLP ',' Mexico ',' 78310 ',' No_Alcohol_Served ',' none ',' medium ',' closed ',' none ',' West ',470);\n",
    "insert into restaurant_details values (135055,' la Cochinita Pibil Restaurante Yucateco ',' Venustiano Carranza 2175 Jardin ',' SLP ',' Mexico ',' 78270 ',' No_Alcohol_Served ',' section ',' high ',' closed ',' none ',' East ',434);\n",
    "insert into restaurant_details values (135108,' Potzocalli ',' Carretera Central Sn ','  ','  ','  ',' No_Alcohol_Served ',' none ',' low ',' closed ',' none ',' West ',526);\n",
    "insert into restaurant_details values (135074,' Restaurante la Parroquia Potosina ',' Venustiano Carranza 303 Centro ',' SLP ',' Mexico ',' 78000 ',' Wine-Beer ',' section ',' high ',' closed ',' none ',' West ',400);\n",
    "insert into restaurant_details values (135018,' El Oceano Dorado ',' Libramiento Burgos Colonia Las Animas ',' Morelos ',' Mexico ','  ',' Full_Bar ',' permitted ',' medium ',' open ',' variety ',' West ',1032);\n",
    "insert into restaurant_details values (135064,' Restaurante El Chivero S.A. de C.V. ',' Angel Veral 328 Altamira ',' SLP ',' Mexico ',' 78740 ',' No_Alcohol_Served ',' none ',' high ',' closed ',' none ',' East ',921);\n",
    "insert into restaurant_details values (135038,' Restaurant la Chalita ',' Guajardo Sn San Luis Potosi Centro ',' SLP ',' Mexico ',' 78000 ',' No_Alcohol_Served ',' section ',' medium ',' closed ',' none ',' West ',985);\n",
    "insert into restaurant_details values (135081,' El Club ',' Mexico 810 Centro ',' SLP ',' Mexico ',' 78000 ',' No_Alcohol_Served ',' none ',' medium ',' closed ',' none ',' West ',724);\n",
    "insert into restaurant_details values (132723,' Gordas de morales ','  ',' San Luis Potosi ',' Mexico ','  ',' Full_Bar ',' section ',' medium ',' closed ',' none ',' West ',318);\n",
    "insert into restaurant_details values (135051,' Restaurante Versalles ',' Francisco I. Madero 145 Centro ',' SLP ',' Mexico ',' 78000 ',' No_Alcohol_Served ',' section ',' low ',' closed ',' none ',' East ',808);\n",
    "insert into restaurant_details values (135021,' Subway ',' Rio Mayo 17 Vista Hermosa ',' Morelos ',' Mexico ',' 62290 ',' No_Alcohol_Served ',' not permitted ',' low ',' closed ',' none ',' West ',630);\n",
    "insert into restaurant_details values (135052,' La Cantina Restaurante ',' Ignacio Aldama 300 Centro ',' SLP ',' Mexico ',' 78000 ',' Full_Bar ',' none ',' high ',' closed ',' none ',' East ',916);\n",
    "insert into restaurant_details values (132845,' Cenaduria El Rincan de Tlaquepaque ',' av. seminario ',' san luis potosi ',' mexico ','  ',' No_Alcohol_Served ',' none ',' medium ',' closed ',' none ',' West ',848);\n",
    "insert into restaurant_details values (135011,' Los Vikingos ',' 36 Sur Civac ',' Morelos ',' Mexico ','  ',' No_Alcohol_Served ',' none ',' medium ',' closed ',' none ',' West ',223);\n",
    "insert into restaurant_details values (132858,' Hamburguesas Valle Dorado ',' Av. Coral ',' San Luis Potosi ',' Mexico ','  ',' No_Alcohol_Served ',' none ',' low ',' closed ',' none ',' East ',823);\n",
    "insert into restaurant_details values (135026,' la Cantina ',' Capitan Caldera No. 420 Tequisqueapan ',' SLP ',' Mexico ',' 78250 ',' Full_Bar ',' none ',' high ',' closed ',' none ',' East ',820);\n",
    "insert into restaurant_details values (132884,' dairy queen ','  ','  ','  ','  ',' No_Alcohol_Served ',' none ',' low ',' closed ',' none ',' East ',795);\n",
    "insert into restaurant_details values (135016,' Arrachela Grill ',' 69 Tres De Mayo ',' Morelos ',' Mexico ','  ',' No_Alcohol_Served ',' none ',' medium ',' closed ',' none ',' East ',852);\n",
    "insert into restaurant_details values (135104,' vips ','  ','  ','  ','  ',' Full_Bar ',' not permitted ',' medium ',' closed ',' variety ',' West ',487);\n",
    "insert into restaurant_details values (132630,' palomo tec ',' blvrd emilio portes gil ',' tamaulipas ',' ? ','  ',' No_Alcohol_Served ',' none ',' low ',' closed ',' none ',' East ',583);\n",
    "insert into restaurant_details values (135047,' Restaurante Casa de las Flores ',' General Mariano Arista 1205 Barrio de Tequisquiap ',' SLP ',' Mexico ',' 78310 ',' Wine-Beer ',' section ',' high ',' closed ',' none ',' West ',693);\n",
    "insert into restaurant_details values (132951,' VIPS ',' NICOLAS ZAPATA 300 ',' San Luis Potosi ',' Mexico ','  ',' No_Alcohol_Served ',' not permitted ',' low ',' closed ',' none ',' East ',441);\n",
    "insert into restaurant_details values (132665,' TACOS CORRECAMINOS ','  ',' tamaulipas ',' mexico ','  ',' No_Alcohol_Served ',' none ',' low ',' closed ',' none ',' East ',1057);\n",
    "insert into restaurant_details values (135044,' Restaurant Wu Zhuo Yi ',' Himno Nacional 100 Avenida ',' SLP ',' Mexico ',' 78240 ',' No_Alcohol_Served ',' none ',' medium ',' closed ',' none ',' East ',298);\n",
    "insert into restaurant_details values (135035,' El Mundo de la Pasta ',' Rio Papaloapan 265 Lomas de San Luis (3) ',' SLP ',' Mexico ',' 78210 ',' No_Alcohol_Served ',' section ',' high ',' closed ',' none ',' East ',177);\n",
    "insert into restaurant_details values (135071,' Restaurante la Cantina ',' De La Estrella 2005 Estrella de Oriente ',' SLP ',' Mexico ',' 78396 ',' Full_Bar ',' section ',' medium ',' closed ',' none ',' West ',835);\n",
    "insert into restaurant_details values (132834,' Gorditas Doa Gloria ',' sevilla y olmedo 715 a ',' san luis potosi ',' mexico ',' 78349 ',' No_Alcohol_Served ',' not permitted ',' low ',' closed ',' none ',' East ',284);\n",
    "insert into restaurant_details values (132846,' el lechon potosino  ',' circuito oriente esq. carretera 57 ',' slp ',' mexico ','  ',' No_Alcohol_Served ',' permitted ',' low ',' open ',' none ',' East ',868);\n",
    "insert into restaurant_details values (135048,' Restaurante Bar Fu-hao ',' Jesus Goytortua 390 Tangamanga ',' SLP ',' Mexico ',' 78269 ',' Wine-Beer ',' none ',' high ',' closed ',' none ',' East ',450);\n",
    "insert into restaurant_details values (132717,' tortas hawai ','  ','  ','  ','  ',' No_Alcohol_Served ',' not permitted ',' medium ',' closed ',' none ',' West ',813);\n",
    "insert into restaurant_details values (132861,' Carls Jr ',' Av. V. Carranza ',' San Luis Potosi ',' Mexico ','  ',' No_Alcohol_Served ',' not permitted ',' medium ',' closed ',' none ',' East ',551);\n",
    "insert into restaurant_details values (132885,' Hamburguesas saul ',' Av. Saan Luis enttre moctezuma y salinas ',' San Luis Potosi ',' mexico ',' 78433 ',' No_Alcohol_Served ',' none ',' low ',' closed ',' none ',' West ',1024);\n",
    "insert into restaurant_details values (132740,' Carreton de Flautas y Migadas ','  ',' Tamaulipas ',' Mexico ','  ',' No_Alcohol_Served ',' permitted ',' low ',' open ',' none ',' West ',736);\n",
    "insert into restaurant_details values (132830,' Rincon Huasteco ','  ','  ','  ','  ',' No_Alcohol_Served ',' none ',' low ',' closed ',' none ',' West ',780);\n",
    "insert into restaurant_details values (132773,' El cotorreo ',' Emiliano Zapata Col. Tres de Mayo ',' Morelos ','  ','  ',' Wine-Beer ',' permitted ',' low ',' open ',' none ',' East ',632);\n",
    "insert into restaurant_details values (132706,' Gorditas Dona Tota ',' Zaragoza entre Francisco Zarco y Lopez Velarde ',' Tamaulipas ',' Mexico ','  ',' No_Alcohol_Served ',' not permitted ',' medium ',' closed ',' none ',' East ',964);\n",
    "insert into restaurant_details values (132872,' Pizzeria Julios ','  ',' mexico ','  ','  ',' No_Alcohol_Served ',' not permitted ',' medium ',' closed ',' none ',' West ',810);\n",
    "insert into restaurant_details values (134987,' Chilis Cuernavaca ',' Rio Mayo Colonia Vista Hermosa Esq. Rio Balsas ',' Morelos ',' Mexico ',' 62290 ',' Wine-Beer ',' none ',' medium ',' closed ',' none ',' West ',1016);\n",
    "insert into restaurant_details values (132572,' Cafe Chaires ','  ',' San Luis Potosi ',' Mexico ','  ',' No_Alcohol_Served ',' not permitted ',' low ',' closed ',' none ',' West ',580);\n",
    "insert into restaurant_details values (132958,' tacos los volcanes ',' avenida hivno nacional ',' san luis potos ',' mexico ','  ',' No_Alcohol_Served ',' none ',' low ',' closed ',' none ',' West ',843);\n",
    "insert into restaurant_details values (132733,' Little Cesarz ','  ',' Tamaulipas ',' Mexico ','  ',' No_Alcohol_Served ',' not permitted ',' medium ',' closed ',' none ',' West ',897);\n",
    "insert into restaurant_details values (132922,' cafe punta del cielo ','  ','  ','  ','  ',' No_Alcohol_Served ',' permitted ',' medium ',' closed ',' none ',' West ',219);\n",
    "insert into restaurant_details values (132715,' tacos de la estacion ','  ','  ','  ','  ',' No_Alcohol_Served ',' none ',' low ',' open ',' none ',' East ',934);\n",
    "insert into restaurant_details values (135027,' Restaurant Orizatlan ',' Pascual M. Hernandez 240 ',' SLP ',' Mexico ','  ',' Wine-Beer ',' none ',' medium ',' closed ',' none ',' East ',280);\n",
    "insert into restaurant_details values (132767,' Restaurant Familiar El Chino ',' Paseo de las Fuentes ',' Morelos ','  ','  ',' Wine-Beer ',' permitted ',' medium ',' open ',' variety ',' West ',1047);\n",
    "insert into restaurant_details values (135039,' Restaurant de Mariscos de Picon ',' Miguel Barragan 46 Centro ',' SLP ',' Mexico ',' 79300 ',' No_Alcohol_Served ',' section ',' low ',' closed ',' none ',' East ',514);\n",
    "insert into restaurant_details values (134996,' Sanborns Casa Piedra ',' Lomas del Mirador ',' Morelos ',' Mexico ','  ',' Wine-Beer ',' only at bar ',' medium ',' closed ',' Internet ',' East ',300);\n",
    "insert into restaurant_details values (132755,' La Estrella de Dimas ',' Av. de los Pintores ',' S.L.P. ',' Mexico ','  ',' No_Alcohol_Served ',' none ',' medium ',' closed ',' variety ',' East ',445);\n",
    "insert into restaurant_details values (135043,' pizza clasica ',' 524 Soledad de Graciano Sanchez ',' SLP ',' Mexico ','  ',' No_Alcohol_Served ',' none ',' medium ',' closed ',' none ',' East ',304);\n",
    "insert into restaurant_details values (132654,' Carnitas Mata  Calle 16 de Septiembre ',' 16 de Septiembre ',' tamaulipas ','  ','  ',' No_Alcohol_Served ',' none ',' low ',' closed ',' none ',' East ',1027);\n",
    "insert into restaurant_details values (135049,' Restaurante de Mariscos la Langosta ',' Cordillera de Los Alpes 675 Loma Verde ',' SLP ',' Mexico ',' 78214 ',' No_Alcohol_Served ',' none ',' medium ',' closed ',' none ',' West ',406);\n",
    "insert into restaurant_details values (135073,' Restaurante Bar El Gallinero ',' Pascual M. Hernandez 210 Centro ',' SLP ',' Mexico ',' 78000 ',' Wine-Beer ',' section ',' high ',' closed ',' none ',' West ',222);\n",
    "insert into restaurant_details values (132560,' puesto de gorditas ',' frente al tecnologico ',' tamaulipas ',' mexico ','  ',' No_Alcohol_Served ',' permitted ',' low ',' open ',' none ',' West ',329);\n",
    "insert into restaurant_details values (134976,' Log Yin ','  ','  ','  ','  ',' No_Alcohol_Served ',' none ',' low ',' closed ',' none ',' West ',989);\n",
    "insert into restaurant_details values (135075,' Mariscos El Pescador ',' Himno Nacional 2104 Tangamanga ',' SLP ',' Mexico ',' 78269 ',' No_Alcohol_Served ',' none ',' medium ',' closed ',' none ',' East ',825);\n",
    "insert into restaurant_details values (132660,' carnitas mata calle Emilio Portes Gil ',' Emilio Portes Gil ',' tamaulipas ',' ? ','  ',' No_Alcohol_Served ',' none ',' low ',' closed ',' none ',' West ',954);\n",
    "insert into restaurant_details values (132921,' crudalia ','  ','  ','  ','  ',' Wine-Beer ',' section ',' low ',' open ',' none ',' East ',795);\n",
    "insert into restaurant_details values (132594,' tacos de barbacoa enfrente del Tec ','  ','  ','  ','  ',' No_Alcohol_Served ',' not permitted ',' low ',' open ',' none ',' East ',445);\n",
    "insert into restaurant_details values (134986,' Restaurant Las Mananitas ',' Ricardo Linares 107 ',' Morelos ',' Mexico ','  ',' Wine-Beer ',' none ',' high ',' closed ',' none ',' West ',431);\n",
    "insert into restaurant_details values (135062,' Restaurante El Cielo Potosino ',' Julian de Los Reyes 400 Centro ',' SLP ',' Mexico ',' 78000 ',' No_Alcohol_Served ',' none ',' medium ',' closed ',' none ',' West ',468);\n",
    "insert into restaurant_details values (132766,' Mikasa ',' Himno nacional esq. Blvd. Juarez ',' Morelos ',' Mexico ','  ',' Wine-Beer ',' none ',' medium ',' closed ',' none ',' East ',290);\n",
    "insert into restaurant_details values (135088,' Cafeteria cenidet ',' Interior Internado Palmira SN ',' Morelos ',' Mexico ','  ',' No_Alcohol_Served ',' not permitted ',' low ',' closed ',' none ',' East ',336);\n",
    "insert into restaurant_details values (135058,' Restaurante Tiberius ',' Munoz Sn Centro ',' SLP ',' Mexico ',' 64000 ',' No_Alcohol_Served ',' none ',' medium ',' closed ',' none ',' West ',514);\n",
    "insert into restaurant_details values (132754,' Cabana Huasteca ',' Cuauhtemoc 455 ',' S.L.P. ',' Mexico ','  ',' No_Alcohol_Served ',' none ',' medium ',' closed ',' none ',' West ',327);\n",
    "insert into restaurant_details values (132584,' Gorditas Dona Tota ','  ','  ','  ','  ',' No_Alcohol_Served ',' not permitted ',' medium ',' closed ',' none ',' East ',1043);\n",
    "insert into restaurant_details values (135032,' Cafeteria y Restaurant El Pacifico ',' Constitucion 200 Centro ',' SLP ',' Mexico ',' 78000 ',' Wine-Beer ',' section ',' medium ',' closed ',' none ',' East ',953);\n",
    "insert into restaurant_details values (135028,' La Virreina ',' Av. Carranza 830 ',' SLP ',' Mexico ','  ',' Wine-Beer ',' none ',' medium ',' closed ',' none ',' West ',616);\n",
    "insert into restaurant_details values (135085,' Tortas Locas Hipocampo ',' Venustiano Carranza 719 Centro ',' SLP ',' Mexico ',' 78000 ',' No_Alcohol_Served ',' not permitted ',' medium ',' closed ',' none ',' West ',819);\n",
    "insert into restaurant_details values (132663,' tacos abi ','  ',' tamaulipas ',' mexico ','  ',' No_Alcohol_Served ',' none ',' low ',' closed ',' none ',' West ',889);\n",
    "insert into restaurant_details values (132626,' la perica hamburguesa ','  ',' tamaulipas ','  ','  ',' No_Alcohol_Served ',' none ',' medium ',' closed ',' none ',' East ',454);\n",
    "insert into restaurant_details values (132583,' McDonalds Centro ',' Rayon sn col. Centro ',' Morelos ',' Mexico ',' 62000 ',' No_Alcohol_Served ',' not permitted ',' low ',' closed ',' none ',' West ',545);\n",
    "insert into restaurant_details values (132866,' Chaires ',' Ricardo B. Anaya ',' San Luis Potosi ',' Mexico ','  ',' No_Alcohol_Served ',' not permitted ',' medium ',' closed ',' none ',' West ',691);\n",
    "insert into restaurant_details values (135072,' Sushi Itto ',' Venustiano Carranza 1809 C Polanco ',' SLP ',' Mexico ',' 78220 ',' No_Alcohol_Served ',' none ',' medium ',' closed ',' none ',' West ',744);\n",
    "insert into restaurant_details values (135109,' Paniroles ','  ','  ','  ','  ',' Wine-Beer ',' not permitted ',' medium ',' closed ',' Internet ',' East ',191);\n",
    "insert into restaurant_details values (135019,' Restaurant Bar Coty y Pablo ',' Paseo de Las Fuentes 24 Pedregal de Las Fuentes ',' Morelos ',' Mexico ','  ',' No_Alcohol_Served ',' none ',' low ',' closed ',' none ',' West ',926);\n",
    "insert into restaurant_details values (132877,' sirloin stockade ','  ','  ','  ','  ',' No_Alcohol_Served ',' none ',' low ',' closed ',' none ',' East ',668);\n",
    "    \"\"\")"
   ]
  },
  {
   "cell_type": "markdown",
   "metadata": {},
   "source": [
    "#### optional code \n",
    "#### For oracle db use the following \n",
    "#### Importing Data from Oracle database - restaurant_details table\n",
    "import cx_Oracle\n",
    "\n",
    "host = 'localhost'\n",
    "\n",
    "port = 1521\n",
    "\n",
    "SID = 'xe'\n",
    "\n",
    "dsn_tns = cx_Oracle.makedsn(host, port, SID)\n",
    "\n",
    "con = cx_Oracle.connect('DBUser1','data1', dsn_tns)\n",
    "\n",
    "restaurant_details = pd.read_sql(\"Select * from Restaurant_Details\",con)\n",
    "\n",
    "con.close()   \n",
    "\n",
    "restaurant_details.head()"
   ]
  },
  {
   "cell_type": "code",
   "execution_count": null,
   "metadata": {},
   "outputs": [],
   "source": [
    "# loading the SQL-table to a dataframe\n",
    "restaurant_details = pd.read_sql(\"Select * from restaurant_details\",conn)\n",
    "restaurant_details.head()"
   ]
  },
  {
   "cell_type": "markdown",
   "metadata": {
    "jp-MarkdownHeadingCollapsed": true
   },
   "source": [
    "## Semi-structured data"
   ]
  },
  {
   "cell_type": "code",
   "execution_count": null,
   "metadata": {},
   "outputs": [],
   "source": [
    "#Importing Data from XML file\n",
    "import xml.etree.ElementTree as ET\n",
    "tree = ET.parse('Data/reviews.xml')\n",
    "root = tree.getroot()\n",
    "print(root.tag,\"Id :\", root.attrib['id'])"
   ]
  },
  {
   "cell_type": "code",
   "execution_count": null,
   "metadata": {},
   "outputs": [],
   "source": [
    "#Extract all the data from elements and sub elements\n",
    "restaurantDict = {}\n",
    "reviewDict = {}\n",
    "specialFeaturesList = []\n",
    "reviewsList = []\n",
    "\n",
    "for elem in root:\n",
    "    restaurantDict.update({elem.tag:elem.text})\n",
    "    for subelem in elem:\n",
    "        if elem.tag == \"SpecialFeatures\":\n",
    "            specialFeaturesList.append(subelem.text)\n",
    "            restaurantDict.update({\"SpecialFeatures\":specialFeaturesList})\n",
    "         \n",
    "        if elem.tag == \"Reviews\":\n",
    "            reviewDict = {}\n",
    "            reviewDict.update({\"Review Id\":subelem.attrib['id']})\n",
    "            for subsubelem in subelem:            \n",
    "                 reviewDict.update({subsubelem.tag:subsubelem.text})\n",
    "            reviewsList.append(reviewDict)\n",
    "            restaurantDict.update({\"Reviews\":reviewsList})\n",
    "\n",
    "#restaurantDict"
   ]
  },
  {
   "cell_type": "code",
   "execution_count": null,
   "metadata": {},
   "outputs": [],
   "source": [
    "#Display the data extracted from the Reviews.xml file\n",
    "print(root.tag,\"Id :\", root.attrib['id'])\n",
    "print(\"---------------------------------------------------------------------------------------------------------\")\n",
    "for key, val in restaurantDict.items():\n",
    "        if key == \"Reviews\":\n",
    "            print(key,\":\")\n",
    "            print(\"---------------------------------------------------------------------------------------------------------\\n\")\n",
    "            for reviews in val:\n",
    "                for keyR, valR in reviews.items():\n",
    "                    print(keyR,\":\",valR)\n",
    "                print(\"\\n-------------------------------------------------------------------------------------------------------\\n\")\n",
    "        else:\n",
    "            print(key,\":\", val)"
   ]
  },
  {
   "cell_type": "markdown",
   "metadata": {
    "jp-MarkdownHeadingCollapsed": true
   },
   "source": [
    "## Unstructured data"
   ]
  },
  {
   "cell_type": "code",
   "execution_count": null,
   "metadata": {},
   "outputs": [],
   "source": [
    "#Importing Data from Unstructured text file - feedback.txt\n",
    "feedback = pd.read_table(\"Data/feedback.txt\", names = ['Reviews'])\n",
    "feedback.head()"
   ]
  },
  {
   "cell_type": "markdown",
   "metadata": {
    "jp-MarkdownHeadingCollapsed": true
   },
   "source": [
    "## Pre-process data\n",
    "## Clean data\n",
    "## Check for inconsistencies in data"
   ]
  },
  {
   "cell_type": "code",
   "execution_count": null,
   "metadata": {},
   "outputs": [],
   "source": [
    "#Check the different kind of states available\n",
    "restaurant_details[\"state\"].value_counts()"
   ]
  },
  {
   "cell_type": "code",
   "execution_count": null,
   "metadata": {},
   "outputs": [],
   "source": [
    "#Update the state column to remove inconsistancies\n",
    "restaurant_details[\"state\"] = [\"Tamaulipas\" if x in [\" tamaulipas \",\" Tamaulipas \"] else x for x in restaurant_details[\"state\"]]\n",
    "restaurant_details[\"state\"] = [\"Morelos\" if x in [\" morelos \",\" Morelos \"] else x for x in restaurant_details[\"state\"]]\n",
    "restaurant_details[\"state\"] = [\"San Luis Potosi\" if x in [\" s.l.p. \",\" SLP \",\" san luis potosi \",\" slp \",\" S.L.P. \",\" san luis potos \",\" San Luis Potosi \"] else x for x in restaurant_details[\"state\"]]\n",
    "restaurant_details[\"state\"] = [\"Mexico\" if x in [\" mexico \",\" Mexico \"] else x for x in restaurant_details[\"state\"]]"
   ]
  },
  {
   "cell_type": "code",
   "execution_count": null,
   "metadata": {},
   "outputs": [],
   "source": [
    "#Check the different kind of states available\n",
    "restaurant_details[\"state\"].value_counts()"
   ]
  },
  {
   "cell_type": "code",
   "execution_count": null,
   "metadata": {},
   "outputs": [],
   "source": [
    "#Check the different kind of countries available\n",
    "restaurant_details[\"country\"].value_counts()"
   ]
  },
  {
   "cell_type": "code",
   "execution_count": null,
   "metadata": {},
   "outputs": [],
   "source": [
    "#Update the country column to remove inconsistancies\n",
    "restaurant_details[\"country\"] = [\"Mexico\" if x in [\" mexico \",\" Mexico \"] else x for x in restaurant_details[\"country\"]]"
   ]
  },
  {
   "cell_type": "code",
   "execution_count": null,
   "metadata": {},
   "outputs": [],
   "source": [
    "#Check the different kind of countries available\n",
    "restaurant_details[\"country\"].value_counts()"
   ]
  },
  {
   "cell_type": "markdown",
   "metadata": {
    "jp-MarkdownHeadingCollapsed": true
   },
   "source": [
    "## Check for negative error-entries in numeric columns"
   ]
  },
  {
   "cell_type": "code",
   "execution_count": null,
   "metadata": {},
   "outputs": [],
   "source": [
    "print(len(consumer_survey.loc[consumer_survey.FRVPM<0,:]))\n",
    "print(len(consumer_survey.loc[consumer_survey.AERPM<0,:]))"
   ]
  },
  {
   "cell_type": "markdown",
   "metadata": {
    "jp-MarkdownHeadingCollapsed": true
   },
   "source": [
    "## Handle negative values"
   ]
  },
  {
   "cell_type": "code",
   "execution_count": null,
   "metadata": {},
   "outputs": [],
   "source": [
    "sample_data = [1,2,9,5,-5,6,-4]\n",
    "result = [0 if i < 0 else i for i in sample_data]\n",
    "print(result)\n",
    "print(\"Mean:\",np.mean(result))"
   ]
  },
  {
   "cell_type": "code",
   "execution_count": null,
   "metadata": {},
   "outputs": [],
   "source": [
    "result = [i for i in sample_data if i >0]\n",
    "print(result)\n",
    "print(\"Mean:\",np.mean(result))"
   ]
  },
  {
   "cell_type": "markdown",
   "metadata": {
    "jp-MarkdownHeadingCollapsed": true
   },
   "source": [
    "## Check for missing values"
   ]
  },
  {
   "cell_type": "code",
   "execution_count": null,
   "metadata": {},
   "outputs": [],
   "source": [
    "df = pd.DataFrame([[1001,89,78], \n",
    "                    [1002,np.nan,86],\n",
    "                    [1003,92,np.nan],\n",
    "                    [1004,76,58],\n",
    "                    [1005,65,90],\n",
    "                    [1006,np.nan,np.nan]],\n",
    "                   columns = ['StudentID', 'Marks_Eng','Marks_Math'])\n",
    "df"
   ]
  },
  {
   "cell_type": "code",
   "execution_count": null,
   "metadata": {},
   "outputs": [],
   "source": [
    "#Where are the NaN values?\n",
    "df.isna()"
   ]
  },
  {
   "cell_type": "code",
   "execution_count": null,
   "metadata": {},
   "outputs": [],
   "source": [
    "#Which columns contain NaN values?\n",
    "df.isna().any()"
   ]
  },
  {
   "cell_type": "code",
   "execution_count": null,
   "metadata": {},
   "outputs": [],
   "source": [
    "df.isna().sum()"
   ]
  },
  {
   "cell_type": "code",
   "execution_count": null,
   "metadata": {},
   "outputs": [],
   "source": [
    "#Which rows contain NaN values?\n",
    "df.isna().any(axis=1)"
   ]
  },
  {
   "cell_type": "code",
   "execution_count": null,
   "metadata": {},
   "outputs": [],
   "source": [
    "df[df.isna().any(axis=1)]"
   ]
  },
  {
   "cell_type": "code",
   "execution_count": null,
   "metadata": {},
   "outputs": [],
   "source": [
    "df[df.isna().any(axis=1)].index.tolist()"
   ]
  },
  {
   "cell_type": "markdown",
   "metadata": {
    "jp-MarkdownHeadingCollapsed": true
   },
   "source": [
    "## Handle missing values"
   ]
  },
  {
   "cell_type": "code",
   "execution_count": null,
   "metadata": {},
   "outputs": [],
   "source": [
    "#Compute mean of a column without ignoring the NaN values.\n",
    "df.Marks_Eng.mean(skipna=False)"
   ]
  },
  {
   "cell_type": "code",
   "execution_count": null,
   "metadata": {},
   "outputs": [],
   "source": [
    "#Compute mean of a column ignoring the NaN values.\n",
    "#Default skipna value is True\n",
    "df.Marks_Eng.mean(skipna=True)"
   ]
  },
  {
   "cell_type": "code",
   "execution_count": null,
   "metadata": {},
   "outputs": [],
   "source": [
    "#Dataframe with rows that contained NaN values, removed.\n",
    "df.dropna()"
   ]
  },
  {
   "cell_type": "markdown",
   "metadata": {
    "jp-MarkdownHeadingCollapsed": true
   },
   "source": [
    "## Delete data\n",
    "## Delete Rows"
   ]
  },
  {
   "cell_type": "code",
   "execution_count": null,
   "metadata": {},
   "outputs": [],
   "source": [
    "#consumer_survey\n",
    "print(\"Before dropping rows with missing values:\",consumer_survey.shape)\n",
    "\n",
    "#Replace '?' with NaN\n",
    "consumer_survey.replace('?',np.NaN, inplace = True)\n",
    "\n",
    "#Drop rows with missing values\n",
    "consumer_survey.dropna(axis = 0, inplace = True, thresh = 13)\n",
    "\n",
    "print(\"After dropping rows with missing values:\",consumer_survey.shape)\n",
    "\n",
    "#Reset index\n",
    "consumer_survey.reset_index(inplace = True, drop = True)"
   ]
  },
  {
   "cell_type": "code",
   "execution_count": null,
   "metadata": {},
   "outputs": [],
   "source": [
    "#restaurant_details\n",
    "print(\"Before dropping rows with missing values:\",restaurant_details.shape)\n",
    "\n",
    "#Replace '?' with NaN\n",
    "missing_values = [' ? ','  ',' NA ']\n",
    "\n",
    "for i in missing_values:\n",
    "    restaurant_details.replace(i,np.NaN, inplace = True)\n",
    "\n",
    "#Drop rows with missing values\n",
    "restaurant_details.dropna(axis = 0, inplace = True, thresh = 11)\n",
    "\n",
    "print(\"After dropping rows with missing values:\",restaurant_details.shape)\n",
    "\n",
    "#Reset index\n",
    "restaurant_details.reset_index(inplace = True, drop = True)"
   ]
  },
  {
   "cell_type": "markdown",
   "metadata": {
    "jp-MarkdownHeadingCollapsed": true
   },
   "source": [
    "## Delete Columns"
   ]
  },
  {
   "cell_type": "code",
   "execution_count": null,
   "metadata": {},
   "outputs": [],
   "source": [
    "#Drop columns with more than 40% missing values\n",
    "restaurant_details.dropna(axis = 1, inplace = True, thresh = 60 * 1.1)"
   ]
  },
  {
   "cell_type": "code",
   "execution_count": null,
   "metadata": {},
   "outputs": [],
   "source": [
    "#Check how many columns are dropped\n",
    "restaurant_details.shape"
   ]
  },
  {
   "cell_type": "code",
   "execution_count": null,
   "metadata": {},
   "outputs": [],
   "source": [
    "#Check which columns are dropped\n",
    "print(restaurant_details.columns.values)"
   ]
  },
  {
   "cell_type": "markdown",
   "metadata": {
    "jp-MarkdownHeadingCollapsed": true
   },
   "source": [
    "## Impute data"
   ]
  },
  {
   "cell_type": "code",
   "execution_count": null,
   "metadata": {},
   "outputs": [],
   "source": [
    "# Remove the comment below and run, incase the scikit-learn package is not installed\n",
    "# !pip install scikit-learn\n",
    "from sklearn.impute import SimpleImputer"
   ]
  },
  {
   "cell_type": "markdown",
   "metadata": {},
   "source": [
    "### Impute with a constant value"
   ]
  },
  {
   "cell_type": "code",
   "execution_count": null,
   "metadata": {},
   "outputs": [],
   "source": [
    "#Which rows contain NA values?\n",
    "df = restaurant_details.loc[:,[\"country\"]]\n",
    "df[df.isna().any(axis=1)].index.tolist()"
   ]
  },
  {
   "cell_type": "code",
   "execution_count": null,
   "metadata": {},
   "outputs": [],
   "source": [
    "restaurant_details.loc[[0, 5, 23, 56, 61, 85, 98, 105],['country']]"
   ]
  },
  {
   "cell_type": "code",
   "execution_count": null,
   "metadata": {},
   "outputs": [],
   "source": [
    "#Fill missing values with a constant\n",
    "country_array = np.array(restaurant_details[\"country\"])\n",
    "imputer = SimpleImputer(strategy = \"constant\", fill_value =\"Mexico\")\n",
    "restaurant_details[\"country\"] = imputer.fit_transform(country_array.reshape(-1,1))"
   ]
  },
  {
   "cell_type": "code",
   "execution_count": null,
   "metadata": {},
   "outputs": [],
   "source": [
    "restaurant_details.loc[[0, 5, 23, 56, 61, 85, 98, 105],['country']]"
   ]
  },
  {
   "cell_type": "markdown",
   "metadata": {},
   "source": [
    "### Impute with the mode or most frequent value"
   ]
  },
  {
   "cell_type": "code",
   "execution_count": null,
   "metadata": {},
   "outputs": [],
   "source": [
    "#Which rows contain NA values?\n",
    "df = consumer_survey.loc[:,[\"transport\"]]\n",
    "df[df.isna().any(axis=1)].index.tolist()"
   ]
  },
  {
   "cell_type": "code",
   "execution_count": null,
   "metadata": {},
   "outputs": [],
   "source": [
    "consumer_survey.loc[[29, 37, 119],['transport']]"
   ]
  },
  {
   "cell_type": "code",
   "execution_count": null,
   "metadata": {},
   "outputs": [],
   "source": [
    "consumer_survey[\"transport\"].value_counts()"
   ]
  },
  {
   "cell_type": "code",
   "execution_count": null,
   "metadata": {},
   "outputs": [],
   "source": [
    "consumer_survey[\"transport\"].mode()[0]"
   ]
  },
  {
   "cell_type": "code",
   "execution_count": null,
   "metadata": {},
   "outputs": [],
   "source": [
    "transport_array = np.array(consumer_survey[\"transport\"])\n",
    "imputer = SimpleImputer(strategy = \"most_frequent\")\n",
    "consumer_survey[\"transport\"] = imputer.fit_transform(transport_array .reshape(-1,1))"
   ]
  },
  {
   "cell_type": "code",
   "execution_count": null,
   "metadata": {},
   "outputs": [],
   "source": [
    "consumer_survey.loc[[29, 37, 119],[\"transport\"]]"
   ]
  },
  {
   "cell_type": "code",
   "execution_count": null,
   "metadata": {},
   "outputs": [],
   "source": [
    "### Impute with the mean value"
   ]
  },
  {
   "cell_type": "code",
   "execution_count": null,
   "metadata": {},
   "outputs": [],
   "source": [
    "#Convert AVERAGE_DINE_IN_PER_MONTH to numeric data type\n",
    "restaurant_details.AVERAGE_DINE_IN_PER_MONTH = pd.to_numeric(restaurant_details.Average_dine_in_per_month)"
   ]
  },
  {
   "cell_type": "code",
   "execution_count": null,
   "metadata": {},
   "outputs": [],
   "source": [
    "#Which rows contain NA values?\n",
    "df = restaurant_details.loc[:,[\"Average_dine_in_per_month\"]]\n",
    "df.loc[df.isna().sum(1)>=1].index.tolist()"
   ]
  },
  {
   "cell_type": "code",
   "execution_count": null,
   "metadata": {},
   "outputs": [],
   "source": [
    "restaurant_details.loc[[21, 26, 34, 43],[\"Average_dine_in_per_month\", \"state\"]]"
   ]
  },
  {
   "cell_type": "code",
   "execution_count": null,
   "metadata": {},
   "outputs": [],
   "source": [
    "#Check the mean value. By default, NaN is skipped.\n",
    "restaurant_details[[\"Average_dine_in_per_month\"]].mean()"
   ]
  },
  {
   "cell_type": "code",
   "execution_count": null,
   "metadata": {},
   "outputs": [],
   "source": [
    "average_dine_in_per_month_array = np.array(restaurant_details[\"Average_dine_in_per_month\"])\n",
    "imputer = SimpleImputer(strategy = \"mean\")\n",
    "restaurant_details[\"AVERAGE_DINE_IN_PER_MONTH_MEAN_IMPUTED\"] = imputer.fit_transform(average_dine_in_per_month_array.reshape(-1,1))"
   ]
  },
  {
   "cell_type": "code",
   "execution_count": null,
   "metadata": {},
   "outputs": [],
   "source": [
    "restaurant_details.loc[[21, 26, 34, 43],[\"AVERAGE_DINE_IN_PER_MONTH_MEAN_IMPUTED\", \"state\"]]"
   ]
  },
  {
   "cell_type": "code",
   "execution_count": null,
   "metadata": {},
   "outputs": [],
   "source": [
    "#Mean average_dine_in_per_month in each state\n",
    "restaurant_details[[\"Average_dine_in_per_month\",\"state\"]].groupby(\"state\").mean()"
   ]
  },
  {
   "cell_type": "code",
   "execution_count": null,
   "metadata": {},
   "outputs": [],
   "source": [
    "restaurant_details.loc[[21, 26, 34, 43],[\"Average_dine_in_per_month\",\"state\"]]"
   ]
  },
  {
   "cell_type": "code",
   "execution_count": null,
   "metadata": {},
   "outputs": [],
   "source": [
    "grouped_restaurant_details = restaurant_details[[\"Average_dine_in_per_month\",\"state\"]].groupby(\"state\")\n",
    "mean_updated = grouped_restaurant_details.transform(lambda x: x.fillna(x.mean()))\n",
    "mean_updated[\"state\"] = restaurant_details[\"state\"]\n",
    "mean_updated.loc[[21, 26, 34, 43],:]"
   ]
  },
  {
   "cell_type": "markdown",
   "metadata": {},
   "source": [
    "### Impute with the median value"
   ]
  },
  {
   "cell_type": "code",
   "execution_count": null,
   "metadata": {},
   "outputs": [],
   "source": [
    "#Which rows contain NA values?\n",
    "df = restaurant_details.loc[:,[\"Average_dine_in_per_month\"]]\n",
    "df.loc[df.isna().sum(1)>=1].index.tolist()"
   ]
  },
  {
   "cell_type": "code",
   "execution_count": null,
   "metadata": {},
   "outputs": [],
   "source": [
    "restaurant_details.loc[[21, 26, 34, 43],[\"Average_dine_in_per_month\", \"state\"]]"
   ]
  },
  {
   "cell_type": "code",
   "execution_count": null,
   "metadata": {},
   "outputs": [],
   "source": [
    "#Check the median value. By default, NaN is skipped.\n",
    "restaurant_details[[\"Average_dine_in_per_month\"]].median()[0]"
   ]
  },
  {
   "cell_type": "code",
   "execution_count": null,
   "metadata": {},
   "outputs": [],
   "source": [
    "average_dine_in_per_month_array = np.array(restaurant_details[\"Average_dine_in_per_month\"])\n",
    "imputer = SimpleImputer(strategy = \"median\")\n",
    "restaurant_details[\"AVERAGE_DINE_IN_PER_MONTH_MEDIAN_IMPUTED\"] = imputer.fit_transform(average_dine_in_per_month_array.reshape(-1,1))"
   ]
  },
  {
   "cell_type": "code",
   "execution_count": null,
   "metadata": {},
   "outputs": [],
   "source": [
    "restaurant_details.loc[[21, 26, 34, 43],[\"Average_dine_in_per_month\", \"state\"]]"
   ]
  },
  {
   "cell_type": "code",
   "execution_count": null,
   "metadata": {},
   "outputs": [],
   "source": [
    "#Median average_dine_in_per_month in each state\n",
    "restaurant_details[[\"Average_dine_in_per_month\",\"state\"]].groupby(\"state\").median()"
   ]
  },
  {
   "cell_type": "code",
   "execution_count": null,
   "metadata": {},
   "outputs": [],
   "source": [
    "restaurant_details.loc[[21, 26, 34, 43],[\"Average_dine_in_per_month\",\"state\"]]"
   ]
  },
  {
   "cell_type": "code",
   "execution_count": null,
   "metadata": {},
   "outputs": [],
   "source": [
    "grouped_restaurant_details = restaurant_details[[\"Average_dine_in_per_month\",\"state\"]].groupby(\"state\")\n",
    "median_updated = grouped_restaurant_details.transform(lambda x: x.fillna(x.median()))\n",
    "median_updated[\"state\"] = restaurant_details[\"state\"]\n",
    "median_updated.loc[[21, 26, 34, 43],:]"
   ]
  },
  {
   "cell_type": "markdown",
   "metadata": {
    "jp-MarkdownHeadingCollapsed": true
   },
   "source": [
    "## Merge Data"
   ]
  },
  {
   "cell_type": "markdown",
   "metadata": {},
   "source": [
    "### Merge restaurant_details and cuisine"
   ]
  },
  {
   "cell_type": "code",
   "execution_count": null,
   "metadata": {},
   "outputs": [],
   "source": [
    "print(restaurant_details.columns.values)"
   ]
  },
  {
   "cell_type": "code",
   "execution_count": null,
   "metadata": {},
   "outputs": [],
   "source": [
    "print(restaurant_cuisine.columns.values)"
   ]
  },
  {
   "cell_type": "code",
   "execution_count": null,
   "metadata": {},
   "outputs": [],
   "source": [
    "restaurant_details_cuisine = pd.merge(restaurant_details,restaurant_cuisine.set_index('placeID'), left_on= 'placeID',right_index=True, how = 'inner')\n",
    "print(restaurant_details_cuisine.columns.values)"
   ]
  },
  {
   "cell_type": "code",
   "execution_count": null,
   "metadata": {},
   "outputs": [],
   "source": [
    "#print(restaurant_details.shape)\n",
    "restaurant_details['placeID'].count()"
   ]
  },
  {
   "cell_type": "code",
   "execution_count": null,
   "metadata": {},
   "outputs": [],
   "source": [
    "#print(resturant_cuisine.shape)\n",
    "restaurant_cuisine['placeID'].count()"
   ]
  },
  {
   "cell_type": "code",
   "execution_count": null,
   "metadata": {},
   "outputs": [],
   "source": [
    "#print(details_cuisine.shape)\n",
    "restaurant_details_cuisine['placeID'].count()"
   ]
  },
  {
   "cell_type": "markdown",
   "metadata": {},
   "source": [
    "### Merge restaurant_details_cuisine and restaurant_parking"
   ]
  },
  {
   "cell_type": "code",
   "execution_count": null,
   "metadata": {},
   "outputs": [],
   "source": [
    "print(restaurant_parking.columns.values)"
   ]
  },
  {
   "cell_type": "code",
   "execution_count": null,
   "metadata": {},
   "outputs": [],
   "source": [
    "restaurant_details_cuisine_parking = pd.merge(restaurant_details_cuisine,restaurant_parking.set_index('placeID'), left_on= 'placeID',right_index=True)\n",
    "print(restaurant_details_cuisine_parking.columns.values)"
   ]
  },
  {
   "cell_type": "markdown",
   "metadata": {},
   "source": [
    "## Subset data"
   ]
  },
  {
   "cell_type": "code",
   "execution_count": null,
   "metadata": {},
   "outputs": [],
   "source": [
    "#Display placeid, name, cuisine and parkin_lot info\n",
    "restaurant_details_cuisine_parking.loc[:,['placeID','name','Rcuisine','parking_lot']].head()"
   ]
  },
  {
   "cell_type": "code",
   "execution_count": null,
   "metadata": {},
   "outputs": [],
   "source": [
    "#Check the various cuisines and their value counts\n",
    "restaurant_details_cuisine_parking['Rcuisine'].value_counts()"
   ]
  },
  {
   "cell_type": "code",
   "execution_count": null,
   "metadata": {},
   "outputs": [],
   "source": [
    "#Check the various kinds of parking lots and their value counts\n",
    "restaurant_details_cuisine_parking['parking_lot'].value_counts()"
   ]
  },
  {
   "cell_type": "code",
   "execution_count": null,
   "metadata": {},
   "outputs": [],
   "source": [
    "#Sub-setting data frame - Mexican cuisine, with public parking\n",
    "subset = restaurant_details_cuisine_parking.loc[(restaurant_details_cuisine_parking.Rcuisine == 'Mexican') & (restaurant_details_cuisine_parking.parking_lot == 'public'), ['placeID', 'name','Rcuisine','parking_lot']]\n",
    "subset"
   ]
  },
  {
   "cell_type": "code",
   "execution_count": null,
   "metadata": {},
   "outputs": [],
   "source": [
    "#Sub-setting data frame - Mexican or American cuisine\n",
    "subset = restaurant_details_cuisine_parking.loc[(restaurant_details_cuisine_parking.Rcuisine == 'Mexican') | (restaurant_details_cuisine_parking.Rcuisine == 'American'), ['name','Rcuisine', 'parking_lot']]\n",
    "subset\n",
    "\n",
    "# OR #\n",
    "\n",
    "#subset = restaurant_details_cuisine_parking.loc[(restaurant_details_cuisine_parking.Rcuisine.isin(['Mexican', 'American'])), ['NAME','Rcuisine', 'parking_lot']]\n",
    "#subset\n",
    "\n",
    "\n",
    "\n"
   ]
  },
  {
   "cell_type": "markdown",
   "metadata": {
    "jp-MarkdownHeadingCollapsed": true
   },
   "source": [
    "## Order data"
   ]
  },
  {
   "cell_type": "code",
   "execution_count": null,
   "metadata": {},
   "outputs": [],
   "source": [
    "print(consumer_survey.columns.values)"
   ]
  },
  {
   "cell_type": "code",
   "execution_count": null,
   "metadata": {},
   "outputs": [],
   "source": [
    "#Before Ordering\n",
    "consumer_survey.loc[:,['gender','smoker','marital_status','FRVPM']].head()"
   ]
  },
  {
   "cell_type": "code",
   "execution_count": null,
   "metadata": {},
   "outputs": [],
   "source": [
    "#Ordering in Increasing Order of FRVPM\n",
    "consumer_survey.sort_values(by=['FRVPM']).loc[:,['gender','smoker','marital_status','FRVPM']].head()"
   ]
  },
  {
   "cell_type": "code",
   "execution_count": null,
   "metadata": {},
   "outputs": [],
   "source": [
    "#Ordering in Decreasing Order of FRVPM\n",
    "consumer_survey.sort_values(by=['FRVPM'],ascending = False).loc[:,['gender','smoker','marital_status','FRVPM']].head()"
   ]
  },
  {
   "cell_type": "markdown",
   "metadata": {},
   "source": [
    "## Reshape data"
   ]
  },
  {
   "cell_type": "code",
   "execution_count": null,
   "metadata": {},
   "outputs": [],
   "source": [
    "#Value counts: parking_lot\n",
    "restaurant_details_cuisine_parking['parking_lot'].value_counts()"
   ]
  },
  {
   "cell_type": "code",
   "execution_count": null,
   "metadata": {},
   "outputs": [],
   "source": [
    "#Add a new feature/attribute\n",
    "restaurant_details_cuisine_parking['parking_availability'] = restaurant_details_cuisine_parking['parking_lot'] !='none'\n",
    "restaurant_details_cuisine_parking.loc[:,['placeID','name','Rcuisine','parking_lot','parking_availability']].head()\n",
    "\n",
    "# OR #\n",
    "\n",
    "#restaurant_details_cuisine_parking['parking_availability'] = (restaurant_details_cuisine_parking['parking_lot'].isin(['public', 'yes','valet_parking', 'paid parking']))\n",
    "#restaurant_details_cuisine_parking.loc[:,['PLACEID','NAME','Rcuisine','parking_lot','parking_availability']].head()"
   ]
  },
  {
   "cell_type": "code",
   "execution_count": null,
   "metadata": {},
   "outputs": [],
   "source": [
    "#Value counts: parking_availability\n",
    "restaurant_details_cuisine_parking['parking_availability'].value_counts()"
   ]
  },
  {
   "cell_type": "markdown",
   "metadata": {},
   "source": [
    "### Melt a dataset"
   ]
  },
  {
   "cell_type": "code",
   "execution_count": null,
   "metadata": {},
   "outputs": [],
   "source": [
    "user_rating.head()"
   ]
  },
  {
   "cell_type": "code",
   "execution_count": null,
   "metadata": {},
   "outputs": [],
   "source": [
    "user_rating_melted = pd.melt(user_rating, id_vars=['userID', 'placeID'],value_vars = ['food_rating', 'service_rating'] ,var_name = \"food/service\" , value_name = \"rating\" )\n",
    "display(user_rating_melted.head())\n",
    "display(user_rating_melted.tail())"
   ]
  },
  {
   "cell_type": "markdown",
   "metadata": {},
   "source": [
    "### Cast a dataset"
   ]
  },
  {
   "cell_type": "code",
   "execution_count": null,
   "metadata": {},
   "outputs": [],
   "source": [
    "pd.pivot_table(user_rating_melted, index = 'placeID', columns = 'food/service', values = 'rating',aggfunc = 'mean').head()"
   ]
  },
  {
   "cell_type": "markdown",
   "metadata": {},
   "source": [
    "## Explore and Summarize data\n",
    "### Exploring Quantitative Attributes\n",
    "### FRVPM\n",
    "### Five Number Summary"
   ]
  },
  {
   "cell_type": "code",
   "execution_count": null,
   "metadata": {},
   "outputs": [],
   "source": [
    "five_number_summary = consumer_survey.FRVPM.describe()\n",
    "five_number_summary"
   ]
  },
  {
   "cell_type": "markdown",
   "metadata": {},
   "source": [
    "## Box Plot"
   ]
  },
  {
   "cell_type": "code",
   "execution_count": null,
   "metadata": {},
   "outputs": [],
   "source": [
    "sns.boxplot(y=consumer_survey[\"FRVPM\"])\n",
    "plt.title(\"Boxplot of FRVPM\")\n",
    "plt.show()"
   ]
  },
  {
   "cell_type": "code",
   "execution_count": null,
   "metadata": {},
   "outputs": [],
   "source": [
    "# Print the larget 3 values in FRVPM\n",
    "print(consumer_survey[\"FRVPM\"].nlargest(3).values)"
   ]
  },
  {
   "cell_type": "code",
   "execution_count": null,
   "metadata": {},
   "outputs": [],
   "source": [
    "IQR = five_number_summary[\"75%\"] - five_number_summary[\"25%\"]\n",
    "upper_limit = (1.5 * IQR) + five_number_summary[\"75%\"]\n",
    "lower_limit = five_number_summary[\"25%\"] - (1.5 * IQR)\n",
    "print(\"IQR:\",IQR)\n",
    "print(\"1.5 * IQR:\", (1.5 * IQR))\n",
    "print(\"upper_limit:\",upper_limit)# upper whisker is drawn at 22\n",
    "print(\"lower_limit:\",lower_limit)# lower whisker is drawn at 2"
   ]
  },
  {
   "cell_type": "markdown",
   "metadata": {},
   "source": [
    "### Histogram"
   ]
  },
  {
   "cell_type": "code",
   "execution_count": null,
   "metadata": {},
   "outputs": [],
   "source": [
    "#consumer_survey[\"FRVPM\"].value_counts()"
   ]
  },
  {
   "cell_type": "code",
   "execution_count": null,
   "metadata": {},
   "outputs": [],
   "source": [
    "#np.sort(consumer_survey[\"FRVPM\"].value_counts())"
   ]
  },
  {
   "cell_type": "code",
   "execution_count": null,
   "metadata": {},
   "outputs": [],
   "source": [
    "sns.distplot(consumer_survey[\"FRVPM\"], kde = False)\n",
    "plt.title(\"Histogram of FRVPM\")\n",
    "plt.xlabel(\"FRVPM\")\n",
    "plt.ylabel(\"Frequency\")\n",
    "plt.show()"
   ]
  },
  {
   "cell_type": "markdown",
   "metadata": {},
   "source": [
    "## AERPM\n",
    "### Five Number Summary"
   ]
  },
  {
   "cell_type": "code",
   "execution_count": null,
   "metadata": {},
   "outputs": [],
   "source": [
    "consumer_survey.AERPM.describe(percentiles=[0.25, 0.75])"
   ]
  },
  {
   "cell_type": "markdown",
   "metadata": {},
   "source": [
    "### Box Plot"
   ]
  },
  {
   "cell_type": "code",
   "execution_count": null,
   "metadata": {},
   "outputs": [],
   "source": [
    "sns.boxplot(y=consumer_survey.AERPM)\n",
    "plt.title(\"Boxplot of AERPM\")\n",
    "plt.show()"
   ]
  },
  {
   "cell_type": "markdown",
   "metadata": {},
   "source": [
    "### Histogram"
   ]
  },
  {
   "cell_type": "code",
   "execution_count": null,
   "metadata": {},
   "outputs": [],
   "source": [
    "sns.distplot(consumer_survey[\"AERPM\"],hist = True, kde = False)\n",
    "plt.title(\"Histogram of AERPM\")\n",
    "plt.xlabel(\"AERPM\")\n",
    "plt.ylabel(\"Frequency\")\n",
    "plt.show()"
   ]
  },
  {
   "cell_type": "markdown",
   "metadata": {},
   "source": [
    "## Exploring Qualitative Attributes\n",
    "### Cross Tabulation"
   ]
  },
  {
   "cell_type": "code",
   "execution_count": null,
   "metadata": {},
   "outputs": [],
   "source": [
    "pd.crosstab(index = consumer_survey[\"gender\"],  columns=\"count\", colnames = ['']) "
   ]
  },
  {
   "cell_type": "code",
   "execution_count": null,
   "metadata": {},
   "outputs": [],
   "source": [
    "pd.crosstab(index = consumer_survey[\"income\"],  columns=\"count\", colnames = ['']) "
   ]
  },
  {
   "cell_type": "code",
   "execution_count": null,
   "metadata": {},
   "outputs": [],
   "source": [
    "pd.crosstab(index = consumer_survey.FRVPM>10,  columns=\"count\", colnames = ['']) "
   ]
  },
  {
   "cell_type": "code",
   "execution_count": null,
   "metadata": {},
   "outputs": [],
   "source": [
    "pd.crosstab(index = restaurant_details[\"Region\"],  columns=\"count\", colnames = [''])"
   ]
  },
  {
   "cell_type": "markdown",
   "metadata": {},
   "source": [
    "### Bar Chart"
   ]
  },
  {
   "cell_type": "code",
   "execution_count": null,
   "metadata": {},
   "outputs": [],
   "source": [
    "#Convert income to Ordered Categorical data type\n",
    "consumer_survey['income'] = pd.Categorical(consumer_survey['income'], categories=[\"low\",\"medium\",\"high\"], ordered=True)"
   ]
  },
  {
   "cell_type": "code",
   "execution_count": null,
   "metadata": {},
   "outputs": [],
   "source": [
    "sns.countplot(x='income', data=consumer_survey)\n",
    "plt.title(\"Bar chart of Income\")\n",
    "plt.show()"
   ]
  },
  {
   "cell_type": "code",
   "execution_count": null,
   "metadata": {},
   "outputs": [],
   "source": [
    "FRVPM_greater_than_10 = pd.DataFrame(consumer_survey.FRVPM>10)\n",
    "FRVPM_greater_than_10.columns = ['FRVPM_greater_than_10']\n",
    "\n",
    "sns.countplot(x = 'FRVPM_greater_than_10', data=FRVPM_greater_than_10)\n",
    "plt.title(\"Bar chart of consumers with FRVPM > 10\")\n",
    "plt.show()"
   ]
  },
  {
   "cell_type": "markdown",
   "metadata": {},
   "source": [
    "## Develop insights from data\n",
    "## Exploring relationship between qualitative and quantitative attributes\n",
    "## Plot and compare multiple box plots"
   ]
  },
  {
   "cell_type": "code",
   "execution_count": null,
   "metadata": {},
   "outputs": [],
   "source": [
    "#Update the AVERAGE_DINE_IN_PER_MONTH column of restaurant details data table with mean_updated\n",
    "restaurant_details['Average_dine_in_per_month'] = mean_updated['Average_dine_in_per_month']"
   ]
  },
  {
   "cell_type": "code",
   "execution_count": null,
   "metadata": {},
   "outputs": [],
   "source": [
    "sns.boxplot(y='Average_dine_in_per_month', x = 'Region', data=restaurant_details)\n",
    "plt.title('East vs. West Average Dine-In Per Month')\n",
    "plt.show()"
   ]
  },
  {
   "cell_type": "markdown",
   "metadata": {},
   "source": [
    "## Plot and compare multiple histograms"
   ]
  },
  {
   "cell_type": "code",
   "execution_count": null,
   "metadata": {},
   "outputs": [],
   "source": [
    "#Create subsets for East and West regions\n",
    "subset_East = restaurant_details.loc[(restaurant_details.Region == ' East '), ['Region','Average_dine_in_per_month']]\n",
    "subset_West = restaurant_details.loc[(restaurant_details.Region == ' West '), ['Region','Average_dine_in_per_month']]"
   ]
  },
  {
   "cell_type": "code",
   "execution_count": null,
   "metadata": {},
   "outputs": [],
   "source": [
    "sns.distplot(subset_East['Average_dine_in_per_month'],color=\"red\", kde = False, label = 'East')\n",
    "sns.distplot(subset_West['Average_dine_in_per_month'],color=\"blue\", kde = False, label = 'West')\n",
    "plt.legend()\n",
    "plt.xlabel('Average_dine_in_per_month')\n",
    "plt.ylabel('FREQUENCY')\n",
    "plt.title('East vs. West Frequency of Average Dine-In Per Month')\n",
    "plt.show()"
   ]
  },
  {
   "cell_type": "code",
   "execution_count": null,
   "metadata": {},
   "outputs": [],
   "source": [
    "subset_East['Average_dine_in_per_month'].median()"
   ]
  },
  {
   "cell_type": "code",
   "execution_count": null,
   "metadata": {},
   "outputs": [],
   "source": [
    "subset_West['Average_dine_in_per_month'].median()"
   ]
  },
  {
   "cell_type": "markdown",
   "metadata": {},
   "source": [
    "## Exploring relationship among qualitative attributes\n",
    "## Pivot Table"
   ]
  },
  {
   "cell_type": "code",
   "execution_count": null,
   "metadata": {},
   "outputs": [],
   "source": [
    "#Varied price restaurants across regions\n",
    "restaurant_details.pivot_table(index = 'Region', values = 'placeID', columns = 'price', aggfunc = 'count')"
   ]
  },
  {
   "cell_type": "code",
   "execution_count": null,
   "metadata": {},
   "outputs": [],
   "source": [
    "display(consumer_survey.head())\n",
    "\n",
    "#Create a index column in consumer_survey data\n",
    "consumer_survey.reset_index(inplace = True)\n",
    "display(consumer_survey.head())"
   ]
  },
  {
   "cell_type": "code",
   "execution_count": null,
   "metadata": {},
   "outputs": [],
   "source": [
    "#Consumers from various income groups who visit restaurants more than 5 times in a month\n",
    "consumer_survey.pivot_table(values = 'index', index = ['income'], columns = consumer_survey.FRVPM>5, aggfunc = 'count')"
   ]
  },
  {
   "cell_type": "code",
   "execution_count": 14,
   "metadata": {},
   "outputs": [
    {
     "ename": "NameError",
     "evalue": "name 'consumer_survey' is not defined",
     "output_type": "error",
     "traceback": [
      "\u001b[1;31m---------------------------------------------------------------------------\u001b[0m",
      "\u001b[1;31mNameError\u001b[0m                                 Traceback (most recent call last)",
      "Cell \u001b[1;32mIn[14], line 2\u001b[0m\n\u001b[0;32m      1\u001b[0m \u001b[38;5;66;03m#Gender wise consumers from various income groups who visit restaurants more than 5 times in a month\u001b[39;00m\n\u001b[1;32m----> 2\u001b[0m \u001b[43mconsumer_survey\u001b[49m\u001b[38;5;241m.\u001b[39mpivot_table(values \u001b[38;5;241m=\u001b[39m \u001b[38;5;124m'\u001b[39m\u001b[38;5;124mindex\u001b[39m\u001b[38;5;124m'\u001b[39m, index \u001b[38;5;241m=\u001b[39m [\u001b[38;5;124m'\u001b[39m\u001b[38;5;124mgender\u001b[39m\u001b[38;5;124m'\u001b[39m, \u001b[38;5;124m'\u001b[39m\u001b[38;5;124mincome\u001b[39m\u001b[38;5;124m'\u001b[39m], columns \u001b[38;5;241m=\u001b[39m consumer_survey\u001b[38;5;241m.\u001b[39mFRVPM\u001b[38;5;241m>\u001b[39m\u001b[38;5;241m5\u001b[39m, aggfunc \u001b[38;5;241m=\u001b[39m \u001b[38;5;124m'\u001b[39m\u001b[38;5;124mcount\u001b[39m\u001b[38;5;124m'\u001b[39m)\n\u001b[0;32m      3\u001b[0m consumer_survey\u001b[38;5;241m.\u001b[39mhead()\n",
      "\u001b[1;31mNameError\u001b[0m: name 'consumer_survey' is not defined"
     ]
    }
   ],
   "source": [
    "#Gender wise consumers from various income groups who visit restaurants more than 5 times in a month\n",
    "consumer_survey.pivot_table(values = 'index', index = ['gender', 'income'], columns = consumer_survey.FRVPM>5, aggfunc = 'count')\n",
    "consumer_survey.head()"
   ]
  },
  {
   "cell_type": "code",
   "execution_count": 13,
   "metadata": {},
   "outputs": [
    {
     "ename": "NameError",
     "evalue": "name 'consumer_survey' is not defined",
     "output_type": "error",
     "traceback": [
      "\u001b[1;31m---------------------------------------------------------------------------\u001b[0m",
      "\u001b[1;31mNameError\u001b[0m                                 Traceback (most recent call last)",
      "Cell \u001b[1;32mIn[13], line 2\u001b[0m\n\u001b[0;32m      1\u001b[0m \u001b[38;5;28;01mimport\u001b[39;00m \u001b[38;5;21;01mpandas\u001b[39;00m \u001b[38;5;28;01mas\u001b[39;00m \u001b[38;5;21;01mpd\u001b[39;00m\n\u001b[1;32m----> 2\u001b[0m \u001b[43mconsumer_survey\u001b[49m\u001b[38;5;241m.\u001b[39mhead()\n\u001b[0;32m      3\u001b[0m \u001b[38;5;66;03m#df = pd.DataFrame(consumer_survey)\u001b[39;00m\n\u001b[0;32m      4\u001b[0m \u001b[38;5;66;03m#df.to_csv(\"my_consumer_survey.csv\", index=False)\u001b[39;00m\n",
      "\u001b[1;31mNameError\u001b[0m: name 'consumer_survey' is not defined"
     ]
    }
   ],
   "source": [
    "import pandas as pd\n",
    "consumer_survey.head()\n",
    "#df = pd.DataFrame(consumer_survey)\n",
    "#df.to_csv(\"my_consumer_survey.csv\", index=False)"
   ]
  },
  {
   "cell_type": "markdown",
   "metadata": {
    "jp-MarkdownHeadingCollapsed": true
   },
   "source": [
    "# Exploring relationship among quantitative attributes"
   ]
  },
  {
   "cell_type": "code",
   "execution_count": null,
   "metadata": {},
   "outputs": [],
   "source": [
    "dining_preferences.head()"
   ]
  },
  {
   "cell_type": "code",
   "execution_count": null,
   "metadata": {},
   "outputs": [],
   "source": [
    "sns.scatterplot(x = 'Year', y = 'Dine_In', data = dining_preferences, color = 'red', label = 'Dine_In')\n",
    "sns.scatterplot(x = 'Year', y = 'Home_Delivery', data = dining_preferences, color = 'blue', label = 'Home_Delivery')\n",
    "plt.legend()\n",
    "plt.xlabel('Year')\n",
    "plt.ylabel('No. of consumers')\n",
    "plt.title('Dine_In vs. Home_Delivery from 1990 to 2016')\n",
    "plt.show()"
   ]
  },
  {
   "cell_type": "markdown",
   "metadata": {
    "jp-MarkdownHeadingCollapsed": true
   },
   "source": [
    "# Simpson's Paradox"
   ]
  },
  {
   "cell_type": "code",
   "execution_count": null,
   "metadata": {},
   "outputs": [],
   "source": [
    "df = pd.DataFrame([[\"Day1\",\"T1\",\"Bob\",\"Pending\"], \n",
    "                   [\"Day1\",\"T2\",\"John\",\"Pending\"],\n",
    "                   [\"Day1\",\"T3\",\"Bob\",\"Resolved\"],\n",
    "                   [\"Day1\",\"T4\",\"Bob\",\"Pending\"],\n",
    "                   [\"Day1\",\"T5\",\"Bob\",\"Pending\"],\n",
    "                   [\"Day2\",\"T1\",\"John\",\"Resolved\"],\n",
    "                   [\"Day2\",\"T2\",\"John\",\"Resolved\"],\n",
    "                   [\"Day2\",\"T3\",\"Bob\",\"Resolved\"],\n",
    "                   [\"Day2\",\"T4\",\"John\",\"Pending\"],\n",
    "                   [\"Day2\",\"T5\",\"John\",\"Resolved\"]],\n",
    "                   columns = ['Day', 'TicketNo.','Assignee','Status'])\n",
    "df"
   ]
  },
  {
   "cell_type": "code",
   "execution_count": null,
   "metadata": {},
   "outputs": [],
   "source": [
    "pd.crosstab(index = df[\"Assignee\"],  columns=df[\"Status\"], colnames = [''])"
   ]
  },
  {
   "cell_type": "code",
   "execution_count": null,
   "metadata": {},
   "outputs": [],
   "source": [
    "pd.crosstab(index = df[\"Assignee\"],  columns=[df[\"Day\"],df[\"Status\"]])"
   ]
  },
  {
   "cell_type": "code",
   "execution_count": null,
   "metadata": {},
   "outputs": [],
   "source": [
    "pd.crosstab(index = [df.Day,df.Assignee],  columns=df.Status)"
   ]
  }
 ],
 "metadata": {
  "kernelspec": {
   "display_name": "Python 3 (ipykernel)",
   "language": "python",
   "name": "python3"
  },
  "language_info": {
   "codemirror_mode": {
    "name": "ipython",
    "version": 3
   },
   "file_extension": ".py",
   "mimetype": "text/x-python",
   "name": "python",
   "nbconvert_exporter": "python",
   "pygments_lexer": "ipython3",
   "version": "3.12.5"
  }
 },
 "nbformat": 4,
 "nbformat_minor": 4
}
